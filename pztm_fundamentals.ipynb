{
  "nbformat": 4,
  "nbformat_minor": 0,
  "metadata": {
    "colab": {
      "provenance": [],
      "toc_visible": true,
      "gpuType": "T4",
      "authorship_tag": "ABX9TyPXS1ZbIQ52P6Wsr/B1HOeV"
    },
    "kernelspec": {
      "name": "python3",
      "display_name": "Python 3"
    },
    "language_info": {
      "name": "python"
    },
    "accelerator": "GPU"
  },
  "cells": [
    {
      "cell_type": "code",
      "execution_count": null,
      "metadata": {
        "id": "c2AVu4ROZV_e"
      },
      "outputs": [],
      "source": []
    },
    {
      "cell_type": "markdown",
      "source": [
        "## 00. PyTorch Fundamentals\n",
        "\n",
        "This is a following of PyTorch Zero To Mastery. My goal is to become comfortable with using PyTorch!\n",
        "Since this is on Google Colab, I'll check it out, since I've been working on Kaggle so far.\n",
        "\n",
        "\n",
        "On Runtime > Change runtime type\n",
        "You can see the GPU specs, and stuff like the CUDA version"
      ],
      "metadata": {
        "id": "rfMG-xzDZw2H"
      }
    },
    {
      "cell_type": "code",
      "source": [
        "!nvidia-smi\n",
        "### For TPU Info...\n",
        "# !tpu-info"
      ],
      "metadata": {
        "colab": {
          "base_uri": "https://localhost:8080/"
        },
        "id": "VkeflxSiZlSW",
        "outputId": "89557cf6-c6db-4422-dbac-03bb52a2a45d"
      },
      "execution_count": null,
      "outputs": [
        {
          "output_type": "stream",
          "name": "stdout",
          "text": [
            "Sun Sep  1 16:28:03 2024       \n",
            "+---------------------------------------------------------------------------------------+\n",
            "| NVIDIA-SMI 535.104.05             Driver Version: 535.104.05   CUDA Version: 12.2     |\n",
            "|-----------------------------------------+----------------------+----------------------+\n",
            "| GPU  Name                 Persistence-M | Bus-Id        Disp.A | Volatile Uncorr. ECC |\n",
            "| Fan  Temp   Perf          Pwr:Usage/Cap |         Memory-Usage | GPU-Util  Compute M. |\n",
            "|                                         |                      |               MIG M. |\n",
            "|=========================================+======================+======================|\n",
            "|   0  Tesla T4                       Off | 00000000:00:04.0 Off |                    0 |\n",
            "| N/A   40C    P8               9W /  70W |      0MiB / 15360MiB |      0%      Default |\n",
            "|                                         |                      |                  N/A |\n",
            "+-----------------------------------------+----------------------+----------------------+\n",
            "                                                                                         \n",
            "+---------------------------------------------------------------------------------------+\n",
            "| Processes:                                                                            |\n",
            "|  GPU   GI   CI        PID   Type   Process name                            GPU Memory |\n",
            "|        ID   ID                                                             Usage      |\n",
            "|=======================================================================================|\n",
            "|  No running processes found                                                           |\n",
            "+---------------------------------------------------------------------------------------+\n"
          ]
        }
      ]
    },
    {
      "cell_type": "markdown",
      "source": [
        "Common libraries that you can easily bring out:"
      ],
      "metadata": {
        "id": "Ss3U9rg6anDx"
      }
    },
    {
      "cell_type": "code",
      "source": [
        "import torch\n",
        "import pandas as pd\n",
        "import numpy as np\n",
        "import matplotlib.pyplot as plt\n",
        "print(torch.__version__)"
      ],
      "metadata": {
        "colab": {
          "base_uri": "https://localhost:8080/"
        },
        "id": "e_0aHzIIZno6",
        "outputId": "51905361-2cc6-4669-96d2-32166fec6b78"
      },
      "execution_count": 1,
      "outputs": [
        {
          "output_type": "stream",
          "name": "stdout",
          "text": [
            "2.4.0+cu121\n"
          ]
        }
      ]
    },
    {
      "cell_type": "markdown",
      "source": [
        "CUDA 12.1 it seems.\n",
        "So if you go to the PyTorch Documentation website, they'll tell you the compute platform (CUDA) that you need for the latest version.\n",
        "\n",
        "CUDA is NVIDIA's interface to run code on the GPU!\n",
        "TPU is Tensor Processing Unit.\n",
        "\n",
        "### Tensors\n",
        "Now let's play with PyTorch tensors.\n",
        "The main data structure we're handling in Neural Networks. It's multi-dimensional numerical data to represent something."
      ],
      "metadata": {
        "id": "eCzrftGKawcZ"
      }
    },
    {
      "cell_type": "code",
      "source": [
        "# scalar\n",
        "scalar = torch.tensor(7) #Rank-0 tensor?\n",
        "scalar"
      ],
      "metadata": {
        "colab": {
          "base_uri": "https://localhost:8080/"
        },
        "id": "mx0pVog6atZk",
        "outputId": "318584ac-70b3-4b4b-ce93-c91429d57d6e"
      },
      "execution_count": null,
      "outputs": [
        {
          "output_type": "execute_result",
          "data": {
            "text/plain": [
              "tensor(7)"
            ]
          },
          "metadata": {},
          "execution_count": 2
        }
      ]
    },
    {
      "cell_type": "markdown",
      "source": [
        "Let's see tensor attributes"
      ],
      "metadata": {
        "id": "Piz2HRo6btCl"
      }
    },
    {
      "cell_type": "code",
      "source": [
        "# Check dimensions\n",
        "scalar.ndim"
      ],
      "metadata": {
        "colab": {
          "base_uri": "https://localhost:8080/"
        },
        "id": "xDr2rNTmbh5L",
        "outputId": "5733644c-799c-422a-95ba-e37132c6a32b"
      },
      "execution_count": null,
      "outputs": [
        {
          "output_type": "execute_result",
          "data": {
            "text/plain": [
              "0"
            ]
          },
          "metadata": {},
          "execution_count": 3
        }
      ]
    },
    {
      "cell_type": "code",
      "source": [
        "# Get tensor as python int\n",
        "scalar.item()"
      ],
      "metadata": {
        "colab": {
          "base_uri": "https://localhost:8080/"
        },
        "id": "ZUZHGp_odg_U",
        "outputId": "10b9dbea-012f-45c4-b124-c1e24edd96c4"
      },
      "execution_count": null,
      "outputs": [
        {
          "output_type": "execute_result",
          "data": {
            "text/plain": [
              "7"
            ]
          },
          "metadata": {},
          "execution_count": 4
        }
      ]
    },
    {
      "cell_type": "code",
      "source": [
        "# Vector\n",
        "vector = torch.tensor([7, 7])\n",
        "vector"
      ],
      "metadata": {
        "colab": {
          "base_uri": "https://localhost:8080/"
        },
        "id": "xhNnUh35dkXc",
        "outputId": "f21472ea-6c83-4db5-ad5f-c2368c8e0d61"
      },
      "execution_count": null,
      "outputs": [
        {
          "output_type": "execute_result",
          "data": {
            "text/plain": [
              "tensor([7, 7])"
            ]
          },
          "metadata": {},
          "execution_count": 5
        }
      ]
    },
    {
      "cell_type": "code",
      "source": [
        "vector.ndim"
      ],
      "metadata": {
        "colab": {
          "base_uri": "https://localhost:8080/"
        },
        "id": "smTZOCzZdqGj",
        "outputId": "c843ba47-d581-446e-8d73-d10e26102922"
      },
      "execution_count": null,
      "outputs": [
        {
          "output_type": "execute_result",
          "data": {
            "text/plain": [
              "1"
            ]
          },
          "metadata": {},
          "execution_count": 6
        }
      ]
    },
    {
      "cell_type": "code",
      "source": [
        "vector.shape"
      ],
      "metadata": {
        "colab": {
          "base_uri": "https://localhost:8080/"
        },
        "id": "rmA0z_LHdyij",
        "outputId": "43d0e689-ade5-4a45-ea43-db8473c31168"
      },
      "execution_count": null,
      "outputs": [
        {
          "output_type": "execute_result",
          "data": {
            "text/plain": [
              "torch.Size([2])"
            ]
          },
          "metadata": {},
          "execution_count": 7
        }
      ]
    },
    {
      "cell_type": "code",
      "source": [
        "# MATRIX\n",
        "MATRIX = torch.tensor([[7, 8]])\n",
        "MATRIX"
      ],
      "metadata": {
        "colab": {
          "base_uri": "https://localhost:8080/"
        },
        "id": "OPar0uRQd3qr",
        "outputId": "7e088f8f-b36d-47f7-914b-a6182c0718a0"
      },
      "execution_count": null,
      "outputs": [
        {
          "output_type": "execute_result",
          "data": {
            "text/plain": [
              "tensor([[7, 8]])"
            ]
          },
          "metadata": {},
          "execution_count": 8
        }
      ]
    },
    {
      "cell_type": "code",
      "source": [
        "MATRIX_2 = torch.tensor([[7,8], [5, 6]])\n",
        "MATRIX_2"
      ],
      "metadata": {
        "colab": {
          "base_uri": "https://localhost:8080/"
        },
        "id": "7v1CwsLYeCm0",
        "outputId": "79d826a0-aea6-431f-9c34-8b7d644e08d9"
      },
      "execution_count": null,
      "outputs": [
        {
          "output_type": "execute_result",
          "data": {
            "text/plain": [
              "tensor([[7, 8],\n",
              "        [5, 6]])"
            ]
          },
          "metadata": {},
          "execution_count": 9
        }
      ]
    },
    {
      "cell_type": "code",
      "source": [
        "MATRIX.ndim"
      ],
      "metadata": {
        "colab": {
          "base_uri": "https://localhost:8080/"
        },
        "id": "xyAXiFiLeGbj",
        "outputId": "49b47925-7aa2-4d0d-e5b9-cbcab7feff88"
      },
      "execution_count": null,
      "outputs": [
        {
          "output_type": "execute_result",
          "data": {
            "text/plain": [
              "2"
            ]
          },
          "metadata": {},
          "execution_count": 10
        }
      ]
    },
    {
      "cell_type": "code",
      "source": [
        "MATRIX.shape"
      ],
      "metadata": {
        "colab": {
          "base_uri": "https://localhost:8080/"
        },
        "id": "ajm3n0-EeJ3s",
        "outputId": "36ef228e-58cb-4beb-d0dd-60deaa5b33cc"
      },
      "execution_count": null,
      "outputs": [
        {
          "output_type": "execute_result",
          "data": {
            "text/plain": [
              "torch.Size([1, 2])"
            ]
          },
          "metadata": {},
          "execution_count": 11
        }
      ]
    },
    {
      "cell_type": "code",
      "source": [
        "MATRIX_2.ndim"
      ],
      "metadata": {
        "colab": {
          "base_uri": "https://localhost:8080/"
        },
        "id": "iCy-a3KAeKnC",
        "outputId": "08741665-2dc7-4a3e-813f-eed003e4bc0a"
      },
      "execution_count": null,
      "outputs": [
        {
          "output_type": "execute_result",
          "data": {
            "text/plain": [
              "2"
            ]
          },
          "metadata": {},
          "execution_count": 12
        }
      ]
    },
    {
      "cell_type": "code",
      "source": [
        "MATRIX_2.shape"
      ],
      "metadata": {
        "colab": {
          "base_uri": "https://localhost:8080/"
        },
        "id": "OMiZFb9ceNNZ",
        "outputId": "1cbe4c25-d7b7-42ad-ddca-dea0d76c9f23"
      },
      "execution_count": null,
      "outputs": [
        {
          "output_type": "execute_result",
          "data": {
            "text/plain": [
              "torch.Size([2, 2])"
            ]
          },
          "metadata": {},
          "execution_count": 13
        }
      ]
    },
    {
      "cell_type": "code",
      "source": [
        "# TENSOR\n",
        "TENSOR = torch.tensor([[[1,2,3],\n",
        "                        [4,5,6],\n",
        "                        [7,8,9]],\n",
        "                       [[10,11,12],\n",
        "                        [13,14,15],\n",
        "                        [16,17,18]]])\n",
        "TENSOR"
      ],
      "metadata": {
        "colab": {
          "base_uri": "https://localhost:8080/"
        },
        "id": "Rl_HiQfWeODV",
        "outputId": "265cd5ce-146b-492e-c8b7-37ef77745943"
      },
      "execution_count": null,
      "outputs": [
        {
          "output_type": "execute_result",
          "data": {
            "text/plain": [
              "tensor([[[ 1,  2,  3],\n",
              "         [ 4,  5,  6],\n",
              "         [ 7,  8,  9]],\n",
              "\n",
              "        [[10, 11, 12],\n",
              "         [13, 14, 15],\n",
              "         [16, 17, 18]]])"
            ]
          },
          "metadata": {},
          "execution_count": 14
        }
      ]
    },
    {
      "cell_type": "code",
      "source": [
        "TENSOR.ndim"
      ],
      "metadata": {
        "colab": {
          "base_uri": "https://localhost:8080/"
        },
        "id": "KyjHRvHkeyK8",
        "outputId": "fb13651a-4f17-4168-a7d1-3554f98fc35a"
      },
      "execution_count": null,
      "outputs": [
        {
          "output_type": "execute_result",
          "data": {
            "text/plain": [
              "3"
            ]
          },
          "metadata": {},
          "execution_count": 15
        }
      ]
    },
    {
      "cell_type": "code",
      "source": [
        "TENSOR.shape"
      ],
      "metadata": {
        "colab": {
          "base_uri": "https://localhost:8080/"
        },
        "id": "jcxxBUFue1N9",
        "outputId": "1b26ef79-d227-424f-9888-b261e45d1237"
      },
      "execution_count": null,
      "outputs": [
        {
          "output_type": "execute_result",
          "data": {
            "text/plain": [
              "torch.Size([2, 3, 3])"
            ]
          },
          "metadata": {},
          "execution_count": 16
        }
      ]
    },
    {
      "cell_type": "markdown",
      "source": [
        "You'll notice in the example below that the tensors are somewhat forced to comply to a standard. I can't just create any tensor; they need to make some sense."
      ],
      "metadata": {
        "id": "YR1NPi-R63Nn"
      }
    },
    {
      "cell_type": "code",
      "source": [
        "T2 = torch.tensor([[1, 2, 3], [[4, 5, 6], [7, 8, 9]]])\n",
        "T2"
      ],
      "metadata": {
        "colab": {
          "base_uri": "https://localhost:8080/",
          "height": 162
        },
        "id": "4NenLtrse16T",
        "outputId": "03cbcedc-4739-4561-f5b2-a433a0b19a46"
      },
      "execution_count": null,
      "outputs": [
        {
          "output_type": "error",
          "ename": "ValueError",
          "evalue": "expected sequence of length 3 at dim 1 (got 2)",
          "traceback": [
            "\u001b[0;31m---------------------------------------------------------------------------\u001b[0m",
            "\u001b[0;31mValueError\u001b[0m                                Traceback (most recent call last)",
            "\u001b[0;32m<ipython-input-17-0260969a32ad>\u001b[0m in \u001b[0;36m<cell line: 1>\u001b[0;34m()\u001b[0m\n\u001b[0;32m----> 1\u001b[0;31m \u001b[0mT2\u001b[0m \u001b[0;34m=\u001b[0m \u001b[0mtorch\u001b[0m\u001b[0;34m.\u001b[0m\u001b[0mtensor\u001b[0m\u001b[0;34m(\u001b[0m\u001b[0;34m[\u001b[0m\u001b[0;34m[\u001b[0m\u001b[0;36m1\u001b[0m\u001b[0;34m,\u001b[0m \u001b[0;36m2\u001b[0m\u001b[0;34m,\u001b[0m \u001b[0;36m3\u001b[0m\u001b[0;34m]\u001b[0m\u001b[0;34m,\u001b[0m \u001b[0;34m[\u001b[0m\u001b[0;34m[\u001b[0m\u001b[0;36m4\u001b[0m\u001b[0;34m,\u001b[0m \u001b[0;36m5\u001b[0m\u001b[0;34m,\u001b[0m \u001b[0;36m6\u001b[0m\u001b[0;34m]\u001b[0m\u001b[0;34m,\u001b[0m \u001b[0;34m[\u001b[0m\u001b[0;36m7\u001b[0m\u001b[0;34m,\u001b[0m \u001b[0;36m8\u001b[0m\u001b[0;34m,\u001b[0m \u001b[0;36m9\u001b[0m\u001b[0;34m]\u001b[0m\u001b[0;34m]\u001b[0m\u001b[0;34m]\u001b[0m\u001b[0;34m)\u001b[0m\u001b[0;34m\u001b[0m\u001b[0;34m\u001b[0m\u001b[0m\n\u001b[0m\u001b[1;32m      2\u001b[0m \u001b[0mT2\u001b[0m\u001b[0;34m\u001b[0m\u001b[0;34m\u001b[0m\u001b[0m\n",
            "\u001b[0;31mValueError\u001b[0m: expected sequence of length 3 at dim 1 (got 2)"
          ]
        }
      ]
    },
    {
      "cell_type": "markdown",
      "source": [
        "Same below, we can't just have any shape"
      ],
      "metadata": {
        "id": "xVdn3Dqt7R9b"
      }
    },
    {
      "cell_type": "code",
      "source": [
        "T3 = torch.tensor([[[4, 5, 6]], [[7, 8]]])\n",
        "T3"
      ],
      "metadata": {
        "colab": {
          "base_uri": "https://localhost:8080/",
          "height": 162
        },
        "id": "NG98xCy960L-",
        "outputId": "3bb60d7a-8311-441f-a5b8-a5bf53ceef3d"
      },
      "execution_count": null,
      "outputs": [
        {
          "output_type": "error",
          "ename": "ValueError",
          "evalue": "expected sequence of length 3 at dim 2 (got 2)",
          "traceback": [
            "\u001b[0;31m---------------------------------------------------------------------------\u001b[0m",
            "\u001b[0;31mValueError\u001b[0m                                Traceback (most recent call last)",
            "\u001b[0;32m<ipython-input-20-3335909c56a1>\u001b[0m in \u001b[0;36m<cell line: 1>\u001b[0;34m()\u001b[0m\n\u001b[0;32m----> 1\u001b[0;31m \u001b[0mT3\u001b[0m \u001b[0;34m=\u001b[0m \u001b[0mtorch\u001b[0m\u001b[0;34m.\u001b[0m\u001b[0mtensor\u001b[0m\u001b[0;34m(\u001b[0m\u001b[0;34m[\u001b[0m\u001b[0;34m[\u001b[0m\u001b[0;34m[\u001b[0m\u001b[0;36m4\u001b[0m\u001b[0;34m,\u001b[0m \u001b[0;36m5\u001b[0m\u001b[0;34m,\u001b[0m \u001b[0;36m6\u001b[0m\u001b[0;34m]\u001b[0m\u001b[0;34m]\u001b[0m\u001b[0;34m,\u001b[0m \u001b[0;34m[\u001b[0m\u001b[0;34m[\u001b[0m\u001b[0;36m7\u001b[0m\u001b[0;34m,\u001b[0m \u001b[0;36m8\u001b[0m\u001b[0;34m]\u001b[0m\u001b[0;34m]\u001b[0m\u001b[0;34m]\u001b[0m\u001b[0;34m)\u001b[0m\u001b[0;34m\u001b[0m\u001b[0;34m\u001b[0m\u001b[0m\n\u001b[0m\u001b[1;32m      2\u001b[0m \u001b[0mT3\u001b[0m\u001b[0;34m\u001b[0m\u001b[0;34m\u001b[0m\u001b[0m\n",
            "\u001b[0;31mValueError\u001b[0m: expected sequence of length 3 at dim 2 (got 2)"
          ]
        }
      ]
    },
    {
      "cell_type": "code",
      "source": [
        "T4 = torch.tensor([[1, 2, 3], [4, 5, 6]])\n",
        "T5 = torch.tensor([[[1, 2, 3], [4, 5, 6]]])"
      ],
      "metadata": {
        "id": "lC00T1xq7N0Q"
      },
      "execution_count": null,
      "outputs": []
    },
    {
      "cell_type": "code",
      "source": [
        "display(T5)\n",
        "display(T5.shape)\n",
        "display(T5.ndim)"
      ],
      "metadata": {
        "colab": {
          "base_uri": "https://localhost:8080/",
          "height": 88
        },
        "id": "7MljCvp_7bT3",
        "outputId": "93131c8b-1666-4250-d453-6557eed61060"
      },
      "execution_count": null,
      "outputs": [
        {
          "output_type": "display_data",
          "data": {
            "text/plain": [
              "tensor([[[1, 2, 3],\n",
              "         [4, 5, 6]]])"
            ]
          },
          "metadata": {}
        },
        {
          "output_type": "display_data",
          "data": {
            "text/plain": [
              "torch.Size([1, 2, 3])"
            ]
          },
          "metadata": {}
        },
        {
          "output_type": "display_data",
          "data": {
            "text/plain": [
              "3"
            ]
          },
          "metadata": {}
        }
      ]
    },
    {
      "cell_type": "code",
      "source": [
        "T6 = torch.tensor([[[1, 2, 3, 4, 5, 6], [7, 8, 9, 10, 11, 12]]])"
      ],
      "metadata": {
        "id": "BhXTFj3S7h_X"
      },
      "execution_count": null,
      "outputs": []
    },
    {
      "cell_type": "code",
      "source": [
        "display(T6)\n",
        "display(T6.ndim)\n",
        "display(T6.shape)"
      ],
      "metadata": {
        "colab": {
          "base_uri": "https://localhost:8080/",
          "height": 88
        },
        "id": "BshlMl4_7ubw",
        "outputId": "3d6f7c56-f7f4-4d5b-cf8d-d3f6e39ab1a5"
      },
      "execution_count": null,
      "outputs": [
        {
          "output_type": "display_data",
          "data": {
            "text/plain": [
              "tensor([[[ 1,  2,  3,  4,  5,  6],\n",
              "         [ 7,  8,  9, 10, 11, 12]]])"
            ]
          },
          "metadata": {}
        },
        {
          "output_type": "display_data",
          "data": {
            "text/plain": [
              "3"
            ]
          },
          "metadata": {}
        },
        {
          "output_type": "display_data",
          "data": {
            "text/plain": [
              "torch.Size([1, 2, 6])"
            ]
          },
          "metadata": {}
        }
      ]
    },
    {
      "cell_type": "markdown",
      "source": [
        "### Random Tensors\n",
        "So just to mention a standard: Matrices and Tensors go uppercase, scalar and vectors go lowercase.\n",
        "\n",
        "We use Random Tensors at initialization because that results in better learning. They're values close to 0 but not quite 0. We try to avoid gradient reduction or explosion."
      ],
      "metadata": {
        "id": "RRZzacfi72QP"
      }
    },
    {
      "cell_type": "code",
      "source": [
        "# Create a random tensor or size / shape (3, 4)\n",
        "random_tensor = torch.rand((3, 4))\n",
        "display(random_tensor)\n",
        "display(random_tensor.ndim)\n",
        "display(random_tensor.shape)\n",
        "\n",
        "rt2 = torch.rand(3, 4)\n",
        "display(rt2)\n",
        "display(rt2.ndim)\n",
        "display(rt2.shape)"
      ],
      "metadata": {
        "colab": {
          "base_uri": "https://localhost:8080/",
          "height": 196
        },
        "id": "0g4O9x8E7ygg",
        "outputId": "6653a32a-28f3-4bd0-b36f-ee31a1818060"
      },
      "execution_count": null,
      "outputs": [
        {
          "output_type": "display_data",
          "data": {
            "text/plain": [
              "tensor([[0.3799, 0.9738, 0.2588, 0.1450],\n",
              "        [0.7659, 0.1005, 0.7388, 0.8655],\n",
              "        [0.2948, 0.9965, 0.8677, 0.0887]])"
            ]
          },
          "metadata": {}
        },
        {
          "output_type": "display_data",
          "data": {
            "text/plain": [
              "2"
            ]
          },
          "metadata": {}
        },
        {
          "output_type": "display_data",
          "data": {
            "text/plain": [
              "torch.Size([3, 4])"
            ]
          },
          "metadata": {}
        },
        {
          "output_type": "display_data",
          "data": {
            "text/plain": [
              "tensor([[0.1988, 0.6420, 0.5964, 0.0162],\n",
              "        [0.6406, 0.6896, 0.1900, 0.1341],\n",
              "        [0.6431, 0.9740, 0.1846, 0.1727]])"
            ]
          },
          "metadata": {}
        },
        {
          "output_type": "display_data",
          "data": {
            "text/plain": [
              "2"
            ]
          },
          "metadata": {}
        },
        {
          "output_type": "display_data",
          "data": {
            "text/plain": [
              "torch.Size([3, 4])"
            ]
          },
          "metadata": {}
        }
      ]
    },
    {
      "cell_type": "code",
      "source": [
        "%%capture\n",
        "rt3 = torch.rand(10, 10, 10)\n",
        "rt3"
      ],
      "metadata": {
        "id": "a2wNh1LY8rhw"
      },
      "execution_count": null,
      "outputs": []
    },
    {
      "cell_type": "code",
      "source": [
        "random_image_size_tensor = torch.rand(size=(3, 224, 224))\n",
        "random_image_size_tensor.shape"
      ],
      "metadata": {
        "colab": {
          "base_uri": "https://localhost:8080/"
        },
        "id": "TBaDkZGX8_pQ",
        "outputId": "4b8d8797-3172-4308-a36a-1a7dad4e9399"
      },
      "execution_count": null,
      "outputs": [
        {
          "output_type": "execute_result",
          "data": {
            "text/plain": [
              "torch.Size([3, 224, 224])"
            ]
          },
          "metadata": {},
          "execution_count": 36
        }
      ]
    },
    {
      "cell_type": "markdown",
      "source": [
        "### Zeros and ones"
      ],
      "metadata": {
        "id": "fD-iRdSS-EMu"
      }
    },
    {
      "cell_type": "code",
      "source": [
        "zeros = torch.zeros(size=(3,4))\n",
        "zeros"
      ],
      "metadata": {
        "colab": {
          "base_uri": "https://localhost:8080/"
        },
        "id": "FzTt0Aun9Uxn",
        "outputId": "6808ca72-1c8b-4889-a6ba-6e5c44ba7389"
      },
      "execution_count": null,
      "outputs": [
        {
          "output_type": "execute_result",
          "data": {
            "text/plain": [
              "tensor([[0., 0., 0., 0.],\n",
              "        [0., 0., 0., 0.],\n",
              "        [0., 0., 0., 0.]])"
            ]
          },
          "metadata": {},
          "execution_count": 38
        }
      ]
    },
    {
      "cell_type": "code",
      "source": [
        "ones = torch.ones(size=(3, 4))\n",
        "ones"
      ],
      "metadata": {
        "colab": {
          "base_uri": "https://localhost:8080/"
        },
        "id": "XUWdNePN-KP3",
        "outputId": "164c83ae-6ccd-4c29-cb41-72662fdd4776"
      },
      "execution_count": null,
      "outputs": [
        {
          "output_type": "execute_result",
          "data": {
            "text/plain": [
              "tensor([[1., 1., 1., 1.],\n",
              "        [1., 1., 1., 1.],\n",
              "        [1., 1., 1., 1.]])"
            ]
          },
          "metadata": {},
          "execution_count": 39
        }
      ]
    },
    {
      "cell_type": "code",
      "source": [
        "#Default is float32, unless you explicitly define one!\n",
        "ones.dtype"
      ],
      "metadata": {
        "colab": {
          "base_uri": "https://localhost:8080/"
        },
        "id": "ObNbmo7m-Obw",
        "outputId": "080eaacf-af7e-4d60-9426-54d369ee9752"
      },
      "execution_count": null,
      "outputs": [
        {
          "output_type": "execute_result",
          "data": {
            "text/plain": [
              "torch.float32"
            ]
          },
          "metadata": {},
          "execution_count": 42
        }
      ]
    },
    {
      "cell_type": "markdown",
      "source": [
        "### Torch Range\n",
        "Range is a deprecated feature replaced by \"arange\""
      ],
      "metadata": {
        "id": "b0T4z5lE_FHf"
      }
    },
    {
      "cell_type": "code",
      "source": [
        "torch.__version__"
      ],
      "metadata": {
        "colab": {
          "base_uri": "https://localhost:8080/",
          "height": 35
        },
        "id": "A01FbDX6-Phg",
        "outputId": "8c5996bf-0472-4108-be2e-a17f6af98d11"
      },
      "execution_count": null,
      "outputs": [
        {
          "output_type": "execute_result",
          "data": {
            "text/plain": [
              "'2.4.0+cu121'"
            ],
            "application/vnd.google.colaboratory.intrinsic+json": {
              "type": "string"
            }
          },
          "metadata": {},
          "execution_count": 43
        }
      ]
    },
    {
      "cell_type": "code",
      "source": [
        "torch.arange(1,11)"
      ],
      "metadata": {
        "colab": {
          "base_uri": "https://localhost:8080/"
        },
        "id": "qdbmqjZx_Ixx",
        "outputId": "c7f3cec1-78fc-4a81-fdc0-936a37b9ba55"
      },
      "execution_count": null,
      "outputs": [
        {
          "output_type": "execute_result",
          "data": {
            "text/plain": [
              "tensor([ 1,  2,  3,  4,  5,  6,  7,  8,  9, 10])"
            ]
          },
          "metadata": {},
          "execution_count": 44
        }
      ]
    },
    {
      "cell_type": "code",
      "source": [
        "torch.arange(0, 10)"
      ],
      "metadata": {
        "colab": {
          "base_uri": "https://localhost:8080/"
        },
        "id": "X-mAK5H5_PeC",
        "outputId": "3ecc12a3-0610-484f-e474-bf62adda0ff0"
      },
      "execution_count": null,
      "outputs": [
        {
          "output_type": "execute_result",
          "data": {
            "text/plain": [
              "tensor([0, 1, 2, 3, 4, 5, 6, 7, 8, 9])"
            ]
          },
          "metadata": {},
          "execution_count": 45
        }
      ]
    },
    {
      "cell_type": "code",
      "source": [
        "torch.arange(20, 30)"
      ],
      "metadata": {
        "colab": {
          "base_uri": "https://localhost:8080/"
        },
        "id": "BBgNIzwu_Qk5",
        "outputId": "c70ddd5d-e23f-4a6b-c2cd-48eabf150dfe"
      },
      "execution_count": null,
      "outputs": [
        {
          "output_type": "execute_result",
          "data": {
            "text/plain": [
              "tensor([20, 21, 22, 23, 24, 25, 26, 27, 28, 29])"
            ]
          },
          "metadata": {},
          "execution_count": 46
        }
      ]
    },
    {
      "cell_type": "code",
      "source": [
        "one_to_ten = torch.arange(start = 1, end = 10, step=1)\n",
        "one_to_ten"
      ],
      "metadata": {
        "colab": {
          "base_uri": "https://localhost:8080/"
        },
        "id": "U9neq5CK_SO5",
        "outputId": "bc073275-22fe-42c3-b481-139359c50fd0"
      },
      "execution_count": null,
      "outputs": [
        {
          "output_type": "execute_result",
          "data": {
            "text/plain": [
              "tensor([1, 2, 3, 4, 5, 6, 7, 8, 9])"
            ]
          },
          "metadata": {},
          "execution_count": 48
        }
      ]
    },
    {
      "cell_type": "code",
      "source": [
        "something_else = torch.arange(start = 0, end = 100, step = 10)\n",
        "something_else"
      ],
      "metadata": {
        "colab": {
          "base_uri": "https://localhost:8080/"
        },
        "id": "u0UKJj6o_cEQ",
        "outputId": "b8cbf3c5-b2dc-4e9e-83c4-0667b1298da8"
      },
      "execution_count": null,
      "outputs": [
        {
          "output_type": "execute_result",
          "data": {
            "text/plain": [
              "tensor([ 0, 10, 20, 30, 40, 50, 60, 70, 80, 90])"
            ]
          },
          "metadata": {},
          "execution_count": 50
        }
      ]
    },
    {
      "cell_type": "code",
      "source": [
        "# Creating tensors like\n",
        "#   You can replicate tensors without replicating with explicitly specifying the shape.\n",
        "some_tensor_copying_shape = torch.zeros_like(input=something_else)\n",
        "display(some_tensor_copying_shape)\n",
        "display(some_tensor_copying_shape.shape)\n",
        "display(some_tensor_copying_shape.ndim)"
      ],
      "metadata": {
        "colab": {
          "base_uri": "https://localhost:8080/",
          "height": 71
        },
        "id": "VLomD7aT_iHY",
        "outputId": "a675e476-0b38-4b62-f110-c678d4139aed"
      },
      "execution_count": null,
      "outputs": [
        {
          "output_type": "display_data",
          "data": {
            "text/plain": [
              "tensor([0, 0, 0, 0, 0, 0, 0, 0, 0, 0])"
            ]
          },
          "metadata": {}
        },
        {
          "output_type": "display_data",
          "data": {
            "text/plain": [
              "torch.Size([10])"
            ]
          },
          "metadata": {}
        },
        {
          "output_type": "display_data",
          "data": {
            "text/plain": [
              "1"
            ]
          },
          "metadata": {}
        }
      ]
    },
    {
      "cell_type": "code",
      "source": [
        "one_to_ten_reshape = one_to_ten.reshape(shape=(1, 9))\n",
        "display(one_to_ten_reshape)\n",
        "display(one_to_ten_reshape.shape)\n",
        "display(one_to_ten_reshape.ndim)"
      ],
      "metadata": {
        "colab": {
          "base_uri": "https://localhost:8080/",
          "height": 71
        },
        "id": "UxqPV_QS_xpY",
        "outputId": "583dbdd6-c12b-4d7e-a20d-f7ec764a115c"
      },
      "execution_count": null,
      "outputs": [
        {
          "output_type": "display_data",
          "data": {
            "text/plain": [
              "tensor([[1, 2, 3, 4, 5, 6, 7, 8, 9]])"
            ]
          },
          "metadata": {}
        },
        {
          "output_type": "display_data",
          "data": {
            "text/plain": [
              "torch.Size([1, 9])"
            ]
          },
          "metadata": {}
        },
        {
          "output_type": "display_data",
          "data": {
            "text/plain": [
              "2"
            ]
          },
          "metadata": {}
        }
      ]
    },
    {
      "cell_type": "markdown",
      "source": [
        "### Tensor Data Types\n"
      ],
      "metadata": {
        "id": "pxS-VqhQA-K7"
      }
    },
    {
      "cell_type": "code",
      "source": [
        "float_32_tensor = torch.tensor([3.0, 6.0, 9.0], dtype=None)\n",
        "display(float_32_tensor)\n",
        "display(float_32_tensor.dtype)\n",
        "display(float_32_tensor.shape)\n",
        "display(float_32_tensor.ndim)"
      ],
      "metadata": {
        "colab": {
          "base_uri": "https://localhost:8080/",
          "height": 88
        },
        "id": "YIZUHAjvAAaY",
        "outputId": "5656ebd1-45bf-4814-b305-d4b59f8fa763"
      },
      "execution_count": null,
      "outputs": [
        {
          "output_type": "display_data",
          "data": {
            "text/plain": [
              "tensor([3., 6., 9.])"
            ]
          },
          "metadata": {}
        },
        {
          "output_type": "display_data",
          "data": {
            "text/plain": [
              "torch.float32"
            ]
          },
          "metadata": {}
        },
        {
          "output_type": "display_data",
          "data": {
            "text/plain": [
              "torch.Size([3])"
            ]
          },
          "metadata": {}
        },
        {
          "output_type": "display_data",
          "data": {
            "text/plain": [
              "1"
            ]
          },
          "metadata": {}
        }
      ]
    },
    {
      "cell_type": "markdown",
      "source": [
        "Because float32 is the default type, when specifying \"None\" it returns to that type."
      ],
      "metadata": {
        "id": "JkHzmK40BWLx"
      }
    },
    {
      "cell_type": "code",
      "source": [
        "tensorx = torch.tensor([3.0, 6.0, 9.0],\n",
        "                       dtype=torch.float16, # Tensor DataType\n",
        "                       device=None,         # Device the tensor is stored in (active memory)\n",
        "                       requires_grad=False) # Track gradients with these tensor's operations\n",
        "tensorx"
      ],
      "metadata": {
        "colab": {
          "base_uri": "https://localhost:8080/"
        },
        "id": "qxElompHBVo8",
        "outputId": "448e35ea-3049-4db5-e3aa-db58669c5d64"
      },
      "execution_count": null,
      "outputs": [
        {
          "output_type": "execute_result",
          "data": {
            "text/plain": [
              "tensor([3., 6., 9.], dtype=torch.float16)"
            ]
          },
          "metadata": {},
          "execution_count": 61
        }
      ]
    },
    {
      "cell_type": "markdown",
      "source": [
        "These types have to do with precision. I saw once that you can train models using less RAM by using less precision. I think it was a LLaMa conference where I saw that mentioned. Anyway, while the model won't be as good, it's possible.\n",
        "\n",
        "- Single Precision: 32\n",
        "- Half Precision: 16\n",
        "\n",
        "Be mindful or datatypes, since it might be one of your main problems (3)\n",
        "- Tensors are not the right datatype\n",
        "- Tensors are not the right shape\n",
        "- Tensors are not on the right device\n",
        "\n",
        "\n",
        "### Device\n",
        "By default it's CPU.\n",
        "GPU and TPU would mean you choose something like \"cuda\"\n",
        "But if you try to do operations with tensors not on the same device, you may encounter problems.\n",
        "\n",
        "### Require Grad\n",
        "Cover the gradients."
      ],
      "metadata": {
        "id": "iym20Y6HCQAk"
      }
    },
    {
      "cell_type": "code",
      "source": [
        "### Convert dtype\n",
        "float_16_tensor = float_32_tensor.type(torch.float16)\n",
        "float_16_tensor"
      ],
      "metadata": {
        "colab": {
          "base_uri": "https://localhost:8080/"
        },
        "id": "GOtn87nbCPyA",
        "outputId": "e4ffa1a3-6bb1-4d31-ed14-05a7aa35a0cb"
      },
      "execution_count": null,
      "outputs": [
        {
          "output_type": "execute_result",
          "data": {
            "text/plain": [
              "tensor([3., 6., 9.], dtype=torch.float16)"
            ]
          },
          "metadata": {},
          "execution_count": 64
        }
      ]
    },
    {
      "cell_type": "code",
      "source": [
        "float_mult = float_16_tensor * float_32_tensor\n",
        "float_mult"
      ],
      "metadata": {
        "colab": {
          "base_uri": "https://localhost:8080/"
        },
        "id": "ucNGxOLTGX9h",
        "outputId": "9a2e9e95-e97d-428e-cb4e-c5e57432e643"
      },
      "execution_count": null,
      "outputs": [
        {
          "output_type": "execute_result",
          "data": {
            "text/plain": [
              "tensor([ 9., 36., 81.])"
            ]
          },
          "metadata": {},
          "execution_count": 65
        }
      ]
    },
    {
      "cell_type": "markdown",
      "source": [
        "### Multiplying data types\n",
        "It results in no error, but the precision or results might differ in the result!\n",
        "It's important to know it may add up over time."
      ],
      "metadata": {
        "id": "mqaCM1JLGwVy"
      }
    },
    {
      "cell_type": "code",
      "source": [
        "int_32_tensor = torch.tensor([3, 6, 9], dtype=torch.int32)\n",
        "int_32_tensor"
      ],
      "metadata": {
        "colab": {
          "base_uri": "https://localhost:8080/"
        },
        "id": "7VX9DtrzGs1q",
        "outputId": "3b144ace-41aa-458a-9541-c5805f64c060"
      },
      "execution_count": null,
      "outputs": [
        {
          "output_type": "execute_result",
          "data": {
            "text/plain": [
              "tensor([3, 6, 9], dtype=torch.int32)"
            ]
          },
          "metadata": {},
          "execution_count": 67
        }
      ]
    },
    {
      "cell_type": "code",
      "source": [
        "float_int_mult = int_32_tensor * float_32_tensor\n",
        "float_int_mult"
      ],
      "metadata": {
        "colab": {
          "base_uri": "https://localhost:8080/"
        },
        "id": "olNvaEdTG72a",
        "outputId": "3517b323-2e2d-4e6a-f807-5dc9d6a95a15"
      },
      "execution_count": null,
      "outputs": [
        {
          "output_type": "execute_result",
          "data": {
            "text/plain": [
              "tensor([ 9., 36., 81.])"
            ]
          },
          "metadata": {},
          "execution_count": 69
        }
      ]
    },
    {
      "cell_type": "code",
      "source": [
        "attempt_tensor = torch.tensor([3, 6, 9], dtype=torch.long)"
      ],
      "metadata": {
        "id": "DpgUBQlSHAc6"
      },
      "execution_count": null,
      "outputs": []
    },
    {
      "cell_type": "code",
      "source": [
        "display(tensorx.dtype)\n",
        "display(tensorx.shape)\n",
        "display(tensorx.device)"
      ],
      "metadata": {
        "colab": {
          "base_uri": "https://localhost:8080/",
          "height": 71
        },
        "id": "i3ACYrUqHLFK",
        "outputId": "a147899e-5989-4091-d144-f55288efc56d"
      },
      "execution_count": null,
      "outputs": [
        {
          "output_type": "display_data",
          "data": {
            "text/plain": [
              "torch.float16"
            ]
          },
          "metadata": {}
        },
        {
          "output_type": "display_data",
          "data": {
            "text/plain": [
              "torch.Size([3])"
            ]
          },
          "metadata": {}
        },
        {
          "output_type": "display_data",
          "data": {
            "text/plain": [
              "device(type='cpu')"
            ]
          },
          "metadata": {}
        }
      ]
    },
    {
      "cell_type": "code",
      "source": [
        "def tensorprint(tensor):\n",
        "    print(f\"tensor: {tensor}, shape: {tensor.shape}, device: {tensor.device}\")\n",
        "\n",
        "tensorprint(tensorx)"
      ],
      "metadata": {
        "colab": {
          "base_uri": "https://localhost:8080/"
        },
        "id": "S-ct07XSHuJZ",
        "outputId": "84e62be2-ba5d-4c2d-ddf6-599071eb767b"
      },
      "execution_count": null,
      "outputs": [
        {
          "output_type": "stream",
          "name": "stdout",
          "text": [
            "tensor: tensor([3., 6., 9.], dtype=torch.float16), shape: torch.Size([3]), device: cpu\n"
          ]
        }
      ]
    },
    {
      "cell_type": "markdown",
      "source": [
        "## Manipulate Tensors\n",
        "\n",
        "Tensor operations.\n",
        "- Addition\n",
        "- Subtraction\n",
        "- Multiplication (element-wise)\n",
        "- Division\n",
        "- Matrix multiplication"
      ],
      "metadata": {
        "id": "yCJbpmbTIWXG"
      }
    },
    {
      "cell_type": "code",
      "source": [
        "# Addition (element-wise)\n",
        "tensor = torch.tensor([1, 2, 3])\n",
        "tensor + 10"
      ],
      "metadata": {
        "colab": {
          "base_uri": "https://localhost:8080/"
        },
        "id": "c6c1b8afH0AL",
        "outputId": "e531db04-549a-460c-c400-0cee189bfcb2"
      },
      "execution_count": null,
      "outputs": [
        {
          "output_type": "execute_result",
          "data": {
            "text/plain": [
              "tensor([11, 12, 13])"
            ]
          },
          "metadata": {},
          "execution_count": 76
        }
      ]
    },
    {
      "cell_type": "code",
      "source": [
        "# Multiplication (element-wise)\n",
        "tensor = torch.tensor([1, 2, 3])\n",
        "tensor = tensor * 10\n",
        "tensor"
      ],
      "metadata": {
        "colab": {
          "base_uri": "https://localhost:8080/"
        },
        "id": "5gjvC7HWOyPk",
        "outputId": "309ac9ab-6c04-4793-c803-dc3ede0fd2af"
      },
      "execution_count": null,
      "outputs": [
        {
          "output_type": "execute_result",
          "data": {
            "text/plain": [
              "tensor([10, 20, 30])"
            ]
          },
          "metadata": {},
          "execution_count": 78
        }
      ]
    },
    {
      "cell_type": "code",
      "source": [
        "# Subtraction\n",
        "tensor = torch.tensor([1, 2, 3])\n",
        "tensor -= 10\n",
        "tensor"
      ],
      "metadata": {
        "colab": {
          "base_uri": "https://localhost:8080/"
        },
        "id": "jAz1aKmdO9ij",
        "outputId": "f8358221-0f01-47cb-a00d-58c8edc91477"
      },
      "execution_count": null,
      "outputs": [
        {
          "output_type": "execute_result",
          "data": {
            "text/plain": [
              "tensor([-9, -8, -7])"
            ]
          },
          "metadata": {},
          "execution_count": 79
        }
      ]
    },
    {
      "cell_type": "code",
      "source": [
        "tensor = torch.tensor([1, 2, 3])\n",
        "tensor = torch.mul(tensor, 10)\n",
        "tensor"
      ],
      "metadata": {
        "colab": {
          "base_uri": "https://localhost:8080/"
        },
        "id": "59hF_WP8PH_L",
        "outputId": "2f5346f0-9142-414b-f121-7ada5a83280a"
      },
      "execution_count": null,
      "outputs": [
        {
          "output_type": "execute_result",
          "data": {
            "text/plain": [
              "tensor([10, 20, 30])"
            ]
          },
          "metadata": {},
          "execution_count": 81
        }
      ]
    },
    {
      "cell_type": "markdown",
      "source": [
        "### Matrix Multiplication\n",
        "Two common ways\n",
        "1. Element-wise\n",
        "2. Matrix Multiplication\n",
        "\n",
        "Matrix Multiplication is perhaps the most common operation used in DL.\n",
        "\n",
        "Dot Product, called the Scalar Product...\n",
        "I remember this one. The rule is that the columns of the first must match the rows of the second to be able to multiply them.\n",
        "\n",
        "(m x n) . (n x k)\n",
        "so \"n\" matches in both."
      ],
      "metadata": {
        "id": "ww6WIk-JPb-a"
      }
    },
    {
      "cell_type": "code",
      "source": [
        "# Matrix Multiplication\n",
        "tensor1 = torch.tensor([1, 2, 3])\n",
        "tensor2 = torch.matmul(tensor1, tensor1)\n",
        "tensor2"
      ],
      "metadata": {
        "colab": {
          "base_uri": "https://localhost:8080/"
        },
        "id": "lw-Vq1YvPNaU",
        "outputId": "c195c5cd-57e7-489a-8229-273ac781636e"
      },
      "execution_count": null,
      "outputs": [
        {
          "output_type": "execute_result",
          "data": {
            "text/plain": [
              "tensor(14)"
            ]
          },
          "metadata": {},
          "execution_count": 86
        }
      ]
    },
    {
      "cell_type": "markdown",
      "source": [
        "Because these two are Rank-1 tensors, there's no problem multiplying them. However, going into rank-2, you'll see this won't be possible, as the rules of the shapes required are not being followed."
      ],
      "metadata": {
        "id": "hG-nffMbRU0l"
      }
    },
    {
      "cell_type": "code",
      "source": [
        "tensor3 = torch.tensor([[1, 2, 3]])\n",
        "display(tensor3.shape)\n",
        "tensor4 = torch.matmul(tensor3, tensor3)"
      ],
      "metadata": {
        "colab": {
          "base_uri": "https://localhost:8080/",
          "height": 198
        },
        "id": "stfRlIiURMCT",
        "outputId": "05bf183f-ede4-49c2-9f20-349d515e03a9"
      },
      "execution_count": null,
      "outputs": [
        {
          "output_type": "display_data",
          "data": {
            "text/plain": [
              "torch.Size([1, 3])"
            ]
          },
          "metadata": {}
        },
        {
          "output_type": "error",
          "ename": "RuntimeError",
          "evalue": "mat1 and mat2 shapes cannot be multiplied (1x3 and 1x3)",
          "traceback": [
            "\u001b[0;31m---------------------------------------------------------------------------\u001b[0m",
            "\u001b[0;31mRuntimeError\u001b[0m                              Traceback (most recent call last)",
            "\u001b[0;32m<ipython-input-88-e410628f03e9>\u001b[0m in \u001b[0;36m<cell line: 3>\u001b[0;34m()\u001b[0m\n\u001b[1;32m      1\u001b[0m \u001b[0mtensor3\u001b[0m \u001b[0;34m=\u001b[0m \u001b[0mtorch\u001b[0m\u001b[0;34m.\u001b[0m\u001b[0mtensor\u001b[0m\u001b[0;34m(\u001b[0m\u001b[0;34m[\u001b[0m\u001b[0;34m[\u001b[0m\u001b[0;36m1\u001b[0m\u001b[0;34m,\u001b[0m \u001b[0;36m2\u001b[0m\u001b[0;34m,\u001b[0m \u001b[0;36m3\u001b[0m\u001b[0;34m]\u001b[0m\u001b[0;34m]\u001b[0m\u001b[0;34m)\u001b[0m\u001b[0;34m\u001b[0m\u001b[0;34m\u001b[0m\u001b[0m\n\u001b[1;32m      2\u001b[0m \u001b[0mdisplay\u001b[0m\u001b[0;34m(\u001b[0m\u001b[0mtensor3\u001b[0m\u001b[0;34m.\u001b[0m\u001b[0mshape\u001b[0m\u001b[0;34m)\u001b[0m\u001b[0;34m\u001b[0m\u001b[0;34m\u001b[0m\u001b[0m\n\u001b[0;32m----> 3\u001b[0;31m \u001b[0mtensor4\u001b[0m \u001b[0;34m=\u001b[0m \u001b[0mtorch\u001b[0m\u001b[0;34m.\u001b[0m\u001b[0mmatmul\u001b[0m\u001b[0;34m(\u001b[0m\u001b[0mtensor3\u001b[0m\u001b[0;34m,\u001b[0m \u001b[0mtensor3\u001b[0m\u001b[0;34m)\u001b[0m\u001b[0;34m\u001b[0m\u001b[0;34m\u001b[0m\u001b[0m\n\u001b[0m",
            "\u001b[0;31mRuntimeError\u001b[0m: mat1 and mat2 shapes cannot be multiplied (1x3 and 1x3)"
          ]
        }
      ]
    },
    {
      "cell_type": "markdown",
      "source": [
        "Note that matmul is different depending on order."
      ],
      "metadata": {
        "id": "un-7VYf3Rn5U"
      }
    },
    {
      "cell_type": "code",
      "source": [
        "tensor1 = torch.tensor([[1, 2, 3],\n",
        "                        [4, 5, 6],\n",
        "                        [7, 8, 9]])\n",
        "tensor2 = torch.tensor([[10, 11, 12],\n",
        "                        [13, 14, 15],\n",
        "                        [16, 17, 18]])\n",
        "\n",
        "tensorMatMul1 = torch.matmul(tensor1, tensor2)\n",
        "tensorMatMul2 = torch.matmul(tensor2, tensor1)\n",
        "display(tensorMatMul1)\n",
        "display(tensorMatMul2)"
      ],
      "metadata": {
        "colab": {
          "base_uri": "https://localhost:8080/",
          "height": 124
        },
        "id": "zxBKMQKhRjGV",
        "outputId": "7e7ef284-7630-4e95-89f1-f7e7f49ab864"
      },
      "execution_count": null,
      "outputs": [
        {
          "output_type": "display_data",
          "data": {
            "text/plain": [
              "tensor([[ 84,  90,  96],\n",
              "        [201, 216, 231],\n",
              "        [318, 342, 366]])"
            ]
          },
          "metadata": {}
        },
        {
          "output_type": "display_data",
          "data": {
            "text/plain": [
              "tensor([[138, 171, 204],\n",
              "        [174, 216, 258],\n",
              "        [210, 261, 312]])"
            ]
          },
          "metadata": {}
        }
      ]
    },
    {
      "cell_type": "markdown",
      "source": [
        "PyTorch and similar libraries use Vectorization to make computation way faster than using for loops on these operations."
      ],
      "metadata": {
        "id": "O60xx-XTSDeE"
      }
    },
    {
      "cell_type": "code",
      "source": [
        "%%time\n",
        "value = 0\n",
        "tensor = torch.tensor([1, 2, 3])\n",
        "for i in range(len(tensor)):\n",
        "  value += tensor[i] * tensor[i]\n",
        "print(value)"
      ],
      "metadata": {
        "colab": {
          "base_uri": "https://localhost:8080/"
        },
        "id": "5xDGr20IR_RL",
        "outputId": "7c134464-ce7f-413a-86bd-7eed4d418adc"
      },
      "execution_count": null,
      "outputs": [
        {
          "output_type": "stream",
          "name": "stdout",
          "text": [
            "tensor(14)\n",
            "CPU times: user 2.69 ms, sys: 979 µs, total: 3.67 ms\n",
            "Wall time: 3.54 ms\n"
          ]
        }
      ]
    },
    {
      "cell_type": "code",
      "source": [
        " %%time\n",
        " tensor = torch.tensor([1, 2, 3])\n",
        " print(torch.matmul(tensor, tensor))\n",
        " #Another form is tensor @ tensor but that's weird. Don't do that."
      ],
      "metadata": {
        "colab": {
          "base_uri": "https://localhost:8080/"
        },
        "id": "dohs-9bqSOKV",
        "outputId": "b469968b-2dc9-41a1-ac3c-8084a4919a60"
      },
      "execution_count": null,
      "outputs": [
        {
          "output_type": "stream",
          "name": "stdout",
          "text": [
            "tensor(14)\n",
            "CPU times: user 828 µs, sys: 0 ns, total: 828 µs\n",
            "Wall time: 838 µs\n"
          ]
        }
      ]
    },
    {
      "cell_type": "markdown",
      "source": [
        "Do note that \"print\" also adds time. At least it it so in Leetcode, I'm assuming that takes quite a toll in time."
      ],
      "metadata": {
        "id": "764czr08ShlF"
      }
    },
    {
      "cell_type": "markdown",
      "source": [
        "# MATRIX MULTIPLICATION RULES\n",
        "\n",
        "1. Shape Rule\n",
        "What must match are the INNER DIMENSIONS. That's right, plural.\n",
        "\n",
        "So I asked ChatGPT about this. Here's the reasoning it provided:\n",
        "\"The last dimension of the first tensor must match the second-to-last dimension of the second tensor\".\n",
        "\n",
        "A.shape = (3, 2, 3)\n",
        "B.shape = (2, 3, 5)\n",
        "\n",
        "Tensor A has inner dimensions 2 x 3 (where 3 is the last dimension of A)\n",
        "Tensor B has inner dimensions 2 x 3 (where 2 is the second-to-last dimension of B)\n",
        "\n",
        "To multiply these tensors, the INNER DIMENSIONS that must match are\n",
        "1. The last dimension of A\n",
        "2. The second-to-last dimension of B.\n",
        "\n",
        "The resulting shape is based on the outer dimensions:\n",
        "1. The outer dimensions of A: (3, 2)\n",
        "2. The outer dimension of B: (5)\n",
        "\n",
        "\n",
        "So going back to the rules specified by the course:\n",
        "1. The inner dimensions must match\n",
        "2. The resulting matrix has the shape of the outer dimensions\n",
        "\n",
        "\n",
        "However, there's still one more trick up the sleeve. Look at this:"
      ],
      "metadata": {
        "id": "47oUG86_S4nj"
      }
    },
    {
      "cell_type": "code",
      "source": [
        "tensor1 = torch.rand(size=(4, 2, 3))\n",
        "tensor2 = torch.rand(size=(2, 3, 5))\n",
        "display(tensor1.shape)\n",
        "display(tensor2.shape)\n",
        "tensor3 = torch.matmul(tensor1, tensor2)\n",
        "tensor3.shape"
      ],
      "metadata": {
        "colab": {
          "base_uri": "https://localhost:8080/",
          "height": 234
        },
        "id": "a0G2UxsHScBN",
        "outputId": "78f76b3d-456a-493c-ee7c-76b8d215d740"
      },
      "execution_count": null,
      "outputs": [
        {
          "output_type": "display_data",
          "data": {
            "text/plain": [
              "torch.Size([4, 2, 3])"
            ]
          },
          "metadata": {}
        },
        {
          "output_type": "display_data",
          "data": {
            "text/plain": [
              "torch.Size([2, 3, 5])"
            ]
          },
          "metadata": {}
        },
        {
          "output_type": "error",
          "ename": "RuntimeError",
          "evalue": "The size of tensor a (4) must match the size of tensor b (2) at non-singleton dimension 0",
          "traceback": [
            "\u001b[0;31m---------------------------------------------------------------------------\u001b[0m",
            "\u001b[0;31mRuntimeError\u001b[0m                              Traceback (most recent call last)",
            "\u001b[0;32m<ipython-input-99-7e4173fd6656>\u001b[0m in \u001b[0;36m<cell line: 5>\u001b[0;34m()\u001b[0m\n\u001b[1;32m      3\u001b[0m \u001b[0mdisplay\u001b[0m\u001b[0;34m(\u001b[0m\u001b[0mtensor1\u001b[0m\u001b[0;34m.\u001b[0m\u001b[0mshape\u001b[0m\u001b[0;34m)\u001b[0m\u001b[0;34m\u001b[0m\u001b[0;34m\u001b[0m\u001b[0m\n\u001b[1;32m      4\u001b[0m \u001b[0mdisplay\u001b[0m\u001b[0;34m(\u001b[0m\u001b[0mtensor2\u001b[0m\u001b[0;34m.\u001b[0m\u001b[0mshape\u001b[0m\u001b[0;34m)\u001b[0m\u001b[0;34m\u001b[0m\u001b[0;34m\u001b[0m\u001b[0m\n\u001b[0;32m----> 5\u001b[0;31m \u001b[0mtensor3\u001b[0m \u001b[0;34m=\u001b[0m \u001b[0mtorch\u001b[0m\u001b[0;34m.\u001b[0m\u001b[0mmatmul\u001b[0m\u001b[0;34m(\u001b[0m\u001b[0mtensor1\u001b[0m\u001b[0;34m,\u001b[0m \u001b[0mtensor2\u001b[0m\u001b[0;34m)\u001b[0m\u001b[0;34m\u001b[0m\u001b[0;34m\u001b[0m\u001b[0m\n\u001b[0m\u001b[1;32m      6\u001b[0m \u001b[0mtensor3\u001b[0m\u001b[0;34m.\u001b[0m\u001b[0mshape\u001b[0m\u001b[0;34m\u001b[0m\u001b[0;34m\u001b[0m\u001b[0m\n",
            "\u001b[0;31mRuntimeError\u001b[0m: The size of tensor a (4) must match the size of tensor b (2) at non-singleton dimension 0"
          ]
        }
      ]
    },
    {
      "cell_type": "markdown",
      "source": [
        "4 and 2 don't match. But didn't we just say that what mattered where the other dimensions? Well they lied to me too.\n",
        "\n",
        "ChatGPT said that Batch size matters too.\n",
        "Batch Size is the number of examples. In a tensor, the first dimension is what's usually saved to specify the number of examples. Thus, the first dimension of matrices must always match too in order to be able to multiply these together. Quite interesting\n",
        "\n",
        "Batch Dimension Issue:\n",
        "\n",
        "\"The remaining dimensions of Tensor A and Tensor B need to be aligned for batch operations.\n",
        "Tensor A has the shape (3,2,3)(3,2,3), so the first dimension (3) should match the corresponding batch dimension in Tensor B.\n",
        "Tensor B has the shape (2,3,5)(2,3,5), so the first dimension here is 2, which doesn’t match Tensor A’s first dimension.\""
      ],
      "metadata": {
        "id": "yvrUMUQPW1be"
      }
    },
    {
      "cell_type": "code",
      "source": [
        "tensor1 = torch.rand(size=(4, 2, 3))\n",
        "tensor2 = torch.rand(size=(4, 3, 5))\n",
        "display(tensor1.shape)\n",
        "display(tensor2.shape)\n",
        "tensor3 = torch.matmul(tensor1, tensor2)\n",
        "display(tensor3.shape)\n"
      ],
      "metadata": {
        "colab": {
          "base_uri": "https://localhost:8080/",
          "height": 71
        },
        "id": "QL---gnEWCyW",
        "outputId": "2a178a8a-dee3-4121-f8da-d6cea5904ce0"
      },
      "execution_count": null,
      "outputs": [
        {
          "output_type": "display_data",
          "data": {
            "text/plain": [
              "torch.Size([4, 2, 3])"
            ]
          },
          "metadata": {}
        },
        {
          "output_type": "display_data",
          "data": {
            "text/plain": [
              "torch.Size([4, 3, 5])"
            ]
          },
          "metadata": {}
        },
        {
          "output_type": "display_data",
          "data": {
            "text/plain": [
              "torch.Size([4, 2, 5])"
            ]
          },
          "metadata": {}
        }
      ]
    },
    {
      "cell_type": "markdown",
      "source": [
        "### Beware torch.mm()\n",
        "\n",
        "Do note torch.mm() exists, but it's not exactly the same as Matmul.\n",
        "It's for matrices only. It can't broadcast. [See here](https://stackoverflow.com/a/73941114).\n",
        "The code below gives an error, for example."
      ],
      "metadata": {
        "id": "1NwBZBTTYpR_"
      }
    },
    {
      "cell_type": "code",
      "source": [
        "tensor4 = torch.mm(tensor1, tensor2)\n",
        "display(tensor4.shape)"
      ],
      "metadata": {
        "colab": {
          "base_uri": "https://localhost:8080/",
          "height": 162
        },
        "id": "qpjltB_3XSIO",
        "outputId": "d937b47e-9d95-4e51-caf0-2243e5007d9f"
      },
      "execution_count": null,
      "outputs": [
        {
          "output_type": "error",
          "ename": "RuntimeError",
          "evalue": "self must be a matrix",
          "traceback": [
            "\u001b[0;31m---------------------------------------------------------------------------\u001b[0m",
            "\u001b[0;31mRuntimeError\u001b[0m                              Traceback (most recent call last)",
            "\u001b[0;32m<ipython-input-108-ff71dce93af1>\u001b[0m in \u001b[0;36m<cell line: 1>\u001b[0;34m()\u001b[0m\n\u001b[0;32m----> 1\u001b[0;31m \u001b[0mtensor4\u001b[0m \u001b[0;34m=\u001b[0m \u001b[0mtorch\u001b[0m\u001b[0;34m.\u001b[0m\u001b[0mmm\u001b[0m\u001b[0;34m(\u001b[0m\u001b[0mtensor1\u001b[0m\u001b[0;34m,\u001b[0m \u001b[0mtensor2\u001b[0m\u001b[0;34m)\u001b[0m\u001b[0;34m\u001b[0m\u001b[0;34m\u001b[0m\u001b[0m\n\u001b[0m\u001b[1;32m      2\u001b[0m \u001b[0mdisplay\u001b[0m\u001b[0;34m(\u001b[0m\u001b[0mtensor4\u001b[0m\u001b[0;34m.\u001b[0m\u001b[0mshape\u001b[0m\u001b[0;34m)\u001b[0m\u001b[0;34m\u001b[0m\u001b[0;34m\u001b[0m\u001b[0m\n",
            "\u001b[0;31mRuntimeError\u001b[0m: self must be a matrix"
          ]
        }
      ]
    },
    {
      "cell_type": "markdown",
      "source": [
        "However the code below does work."
      ],
      "metadata": {
        "id": "AFR5itX8YzA-"
      }
    },
    {
      "cell_type": "code",
      "source": [
        "tensor5 = torch.tensor([[1, 2, 3], [4, 5, 6]])\n",
        "tensor6 = torch.tensor([[7, 8],\n",
        "                        [9, 10],\n",
        "                        [11, 12]])\n",
        "tensor7 = torch.mm(tensor5, tensor6)\n",
        "tensor7.shape"
      ],
      "metadata": {
        "colab": {
          "base_uri": "https://localhost:8080/"
        },
        "id": "XLcKKEzBYxb_",
        "outputId": "dc7c7667-cf0f-46ea-97da-a459999c9a8d"
      },
      "execution_count": null,
      "outputs": [
        {
          "output_type": "execute_result",
          "data": {
            "text/plain": [
              "torch.Size([2, 2])"
            ]
          },
          "metadata": {},
          "execution_count": 110
        }
      ]
    },
    {
      "cell_type": "markdown",
      "source": [
        "## Transpose\n",
        "You can manipulate shape with this. reshape() also exists!\n",
        "The change in transpose is quite unintuitive at first, so it requires some practice. Though it will relief the viewer to note that most of it is already done for you in the built-in models and APIs."
      ],
      "metadata": {
        "id": "7KZkQFgnZbzi"
      }
    },
    {
      "cell_type": "code",
      "source": [
        "tensor1 = torch.rand(size=(4, 2, 3))\n",
        "tensor2 = torch.rand(size=(2, 3, 5))\n",
        "\n",
        "tensor1T = tensor1.T\n",
        "display(tensor1.shape)\n",
        "display(tensor1T.shape)\n",
        "display(tensor1)\n",
        "display(tensor1T)"
      ],
      "metadata": {
        "colab": {
          "base_uri": "https://localhost:8080/",
          "height": 448
        },
        "id": "AYzOlsRxZEUO",
        "outputId": "dc865c9c-83bf-4814-a165-e9e4acfde1eb"
      },
      "execution_count": null,
      "outputs": [
        {
          "output_type": "stream",
          "name": "stderr",
          "text": [
            "<ipython-input-111-829c25d41883>:4: UserWarning: The use of `x.T` on tensors of dimension other than 2 to reverse their shape is deprecated and it will throw an error in a future release. Consider `x.mT` to transpose batches of matrices or `x.permute(*torch.arange(x.ndim - 1, -1, -1))` to reverse the dimensions of a tensor. (Triggered internally at ../aten/src/ATen/native/TensorShape.cpp:3697.)\n",
            "  tensor1T = tensor1.T\n"
          ]
        },
        {
          "output_type": "display_data",
          "data": {
            "text/plain": [
              "torch.Size([4, 2, 3])"
            ]
          },
          "metadata": {}
        },
        {
          "output_type": "display_data",
          "data": {
            "text/plain": [
              "torch.Size([3, 2, 4])"
            ]
          },
          "metadata": {}
        },
        {
          "output_type": "display_data",
          "data": {
            "text/plain": [
              "tensor([[[0.3667, 0.0947, 0.9330],\n",
              "         [0.4262, 0.0107, 0.4054]],\n",
              "\n",
              "        [[0.6728, 0.0431, 0.4432],\n",
              "         [0.6445, 0.0532, 0.2225]],\n",
              "\n",
              "        [[0.6918, 0.9444, 0.7496],\n",
              "         [0.2251, 0.8825, 0.6611]],\n",
              "\n",
              "        [[0.9980, 0.0872, 0.4365],\n",
              "         [0.2493, 0.1969, 0.9101]]])"
            ]
          },
          "metadata": {}
        },
        {
          "output_type": "display_data",
          "data": {
            "text/plain": [
              "tensor([[[0.3667, 0.6728, 0.6918, 0.9980],\n",
              "         [0.4262, 0.6445, 0.2251, 0.2493]],\n",
              "\n",
              "        [[0.0947, 0.0431, 0.9444, 0.0872],\n",
              "         [0.0107, 0.0532, 0.8825, 0.1969]],\n",
              "\n",
              "        [[0.9330, 0.4432, 0.7496, 0.4365],\n",
              "         [0.4054, 0.2225, 0.6611, 0.9101]]])"
            ]
          },
          "metadata": {}
        }
      ]
    },
    {
      "cell_type": "markdown",
      "source": [
        "Wow, there's even a notice that .T is going to be deprecated."
      ],
      "metadata": {
        "id": "eQOfupaEZ8m0"
      }
    },
    {
      "cell_type": "code",
      "source": [
        "tensor1 = torch.tensor([[[1, 2, 3],\n",
        "                       [4, 5, 6],\n",
        "                       [7, 8, 9]],\n",
        "                      [[10, 11, 12],\n",
        "                       [13, 14, 15],\n",
        "                       [16, 17, 18]]])\n",
        "\n",
        "\n",
        "tensor1T = tensor1.transpose(1, -1)\n",
        "display(tensor1)\n",
        "display(tensor1.shape)\n",
        "display(tensor1T.shape)\n",
        "display(tensor1T)"
      ],
      "metadata": {
        "colab": {
          "base_uri": "https://localhost:8080/",
          "height": 303
        },
        "id": "Qcax68WuZ4oG",
        "outputId": "055d2989-3299-4075-c67e-7edb9c5abf4e"
      },
      "execution_count": null,
      "outputs": [
        {
          "output_type": "display_data",
          "data": {
            "text/plain": [
              "tensor([[[ 1,  2,  3],\n",
              "         [ 4,  5,  6],\n",
              "         [ 7,  8,  9]],\n",
              "\n",
              "        [[10, 11, 12],\n",
              "         [13, 14, 15],\n",
              "         [16, 17, 18]]])"
            ]
          },
          "metadata": {}
        },
        {
          "output_type": "display_data",
          "data": {
            "text/plain": [
              "torch.Size([2, 3, 3])"
            ]
          },
          "metadata": {}
        },
        {
          "output_type": "display_data",
          "data": {
            "text/plain": [
              "torch.Size([2, 3, 3])"
            ]
          },
          "metadata": {}
        },
        {
          "output_type": "display_data",
          "data": {
            "text/plain": [
              "tensor([[[ 1,  4,  7],\n",
              "         [ 2,  5,  8],\n",
              "         [ 3,  6,  9]],\n",
              "\n",
              "        [[10, 13, 16],\n",
              "         [11, 14, 17],\n",
              "         [12, 15, 18]]])"
            ]
          },
          "metadata": {}
        }
      ]
    },
    {
      "cell_type": "code",
      "source": [
        "tensor2 = torch.tensor([[[1, 2],\n",
        "                         [3, 4],\n",
        "                         [5, 6]],\n",
        "                        [[7, 8],\n",
        "                         [9, 10],\n",
        "                         [11, 12]]])\n",
        "tensor2T = tensor2.transpose(-1, 1)\n",
        "display(tensor2)\n",
        "display(tensor2.shape)\n",
        "display(tensor2T.shape)\n",
        "display(tensor2T)"
      ],
      "metadata": {
        "colab": {
          "base_uri": "https://localhost:8080/",
          "height": 267
        },
        "id": "mNRjqGKraS5P",
        "outputId": "a31f0818-25e5-4988-ea73-60ed34e6b07b"
      },
      "execution_count": null,
      "outputs": [
        {
          "output_type": "display_data",
          "data": {
            "text/plain": [
              "tensor([[[ 1,  2],\n",
              "         [ 3,  4],\n",
              "         [ 5,  6]],\n",
              "\n",
              "        [[ 7,  8],\n",
              "         [ 9, 10],\n",
              "         [11, 12]]])"
            ]
          },
          "metadata": {}
        },
        {
          "output_type": "display_data",
          "data": {
            "text/plain": [
              "torch.Size([2, 3, 2])"
            ]
          },
          "metadata": {}
        },
        {
          "output_type": "display_data",
          "data": {
            "text/plain": [
              "torch.Size([2, 2, 3])"
            ]
          },
          "metadata": {}
        },
        {
          "output_type": "display_data",
          "data": {
            "text/plain": [
              "tensor([[[ 1,  3,  5],\n",
              "         [ 2,  4,  6]],\n",
              "\n",
              "        [[ 7,  9, 11],\n",
              "         [ 8, 10, 12]]])"
            ]
          },
          "metadata": {}
        }
      ]
    },
    {
      "cell_type": "markdown",
      "source": [
        "# Tensor Aggregation\n",
        "Find the max, min, mean, sum, and others..."
      ],
      "metadata": {
        "id": "TfqxTEsAdGGA"
      }
    },
    {
      "cell_type": "code",
      "source": [
        "x = torch.arange(1, 123, 11)\n",
        "x"
      ],
      "metadata": {
        "colab": {
          "base_uri": "https://localhost:8080/"
        },
        "id": "jj54jieKa_gu",
        "outputId": "0a2a2dec-04a4-46cc-bb13-d20a1ee7c3bd"
      },
      "execution_count": null,
      "outputs": [
        {
          "output_type": "execute_result",
          "data": {
            "text/plain": [
              "tensor([  1,  12,  23,  34,  45,  56,  67,  78,  89, 100, 111, 122])"
            ]
          },
          "metadata": {},
          "execution_count": 138
        }
      ]
    },
    {
      "cell_type": "code",
      "source": [
        "torch.min(x), x.min()"
      ],
      "metadata": {
        "colab": {
          "base_uri": "https://localhost:8080/"
        },
        "id": "UfF7eXyIdMXX",
        "outputId": "a43df29b-4f71-4ca0-fa66-6302a3c0824a"
      },
      "execution_count": null,
      "outputs": [
        {
          "output_type": "execute_result",
          "data": {
            "text/plain": [
              "(tensor(1), tensor(1))"
            ]
          },
          "metadata": {},
          "execution_count": 139
        }
      ]
    },
    {
      "cell_type": "code",
      "source": [
        "torch.max(x), x.max()"
      ],
      "metadata": {
        "colab": {
          "base_uri": "https://localhost:8080/"
        },
        "id": "JtBx89mXdSxA",
        "outputId": "c2629dbf-fc98-4868-a9a2-f5659ab0ff8d"
      },
      "execution_count": null,
      "outputs": [
        {
          "output_type": "execute_result",
          "data": {
            "text/plain": [
              "(tensor(122), tensor(122))"
            ]
          },
          "metadata": {},
          "execution_count": 140
        }
      ]
    },
    {
      "cell_type": "code",
      "source": [
        "torch.mean(x)"
      ],
      "metadata": {
        "colab": {
          "base_uri": "https://localhost:8080/",
          "height": 144
        },
        "id": "N0wHWxPzdVOW",
        "outputId": "b17a1519-d3d4-4342-d451-03981a0473c0"
      },
      "execution_count": null,
      "outputs": [
        {
          "output_type": "error",
          "ename": "RuntimeError",
          "evalue": "mean(): could not infer output dtype. Input dtype must be either a floating point or complex dtype. Got: Long",
          "traceback": [
            "\u001b[0;31m---------------------------------------------------------------------------\u001b[0m",
            "\u001b[0;31mRuntimeError\u001b[0m                              Traceback (most recent call last)",
            "\u001b[0;32m<ipython-input-141-455868396db1>\u001b[0m in \u001b[0;36m<cell line: 1>\u001b[0;34m()\u001b[0m\n\u001b[0;32m----> 1\u001b[0;31m \u001b[0mtorch\u001b[0m\u001b[0;34m.\u001b[0m\u001b[0mmean\u001b[0m\u001b[0;34m(\u001b[0m\u001b[0mx\u001b[0m\u001b[0;34m)\u001b[0m\u001b[0;34m\u001b[0m\u001b[0;34m\u001b[0m\u001b[0m\n\u001b[0m",
            "\u001b[0;31mRuntimeError\u001b[0m: mean(): could not infer output dtype. Input dtype must be either a floating point or complex dtype. Got: Long"
          ]
        }
      ]
    },
    {
      "cell_type": "markdown",
      "source": [
        "We've now found our first error based on datatype.\n",
        "What's happening? The tensor \"x\" is dtype \"int64\", which is long.\n",
        "What happens is that the OUPUT can't be int64 just as the input, so we must specify which output we want for the mean."
      ],
      "metadata": {
        "id": "_4OtGMZ4dZNH"
      }
    },
    {
      "cell_type": "code",
      "source": [
        "torch.mean(x, dtype=torch.float32)"
      ],
      "metadata": {
        "colab": {
          "base_uri": "https://localhost:8080/"
        },
        "id": "-2V5lVgQdXkm",
        "outputId": "d4564e71-68df-4838-ae46-644c707159f5"
      },
      "execution_count": null,
      "outputs": [
        {
          "output_type": "execute_result",
          "data": {
            "text/plain": [
              "tensor(61.5000)"
            ]
          },
          "metadata": {},
          "execution_count": 142
        }
      ]
    },
    {
      "cell_type": "code",
      "source": [
        "torch.sum(x), x.sum()"
      ],
      "metadata": {
        "colab": {
          "base_uri": "https://localhost:8080/"
        },
        "id": "4VS5n8SBdwEv",
        "outputId": "2edb85a0-7ce1-4377-ba45-8938035fd725"
      },
      "execution_count": null,
      "outputs": [
        {
          "output_type": "execute_result",
          "data": {
            "text/plain": [
              "(tensor(738), tensor(738))"
            ]
          },
          "metadata": {},
          "execution_count": 143
        }
      ]
    },
    {
      "cell_type": "markdown",
      "source": [
        "# Positional min and max\n",
        "argmin() and argmax() will return the index position of where the mix/max value is"
      ],
      "metadata": {
        "id": "miW_QdTce8BD"
      }
    },
    {
      "cell_type": "code",
      "source": [
        "x.argmin()"
      ],
      "metadata": {
        "colab": {
          "base_uri": "https://localhost:8080/"
        },
        "id": "TdibeSHaeC13",
        "outputId": "1e809048-f69e-44f3-af45-bdac400ae885"
      },
      "execution_count": null,
      "outputs": [
        {
          "output_type": "execute_result",
          "data": {
            "text/plain": [
              "tensor(0)"
            ]
          },
          "metadata": {},
          "execution_count": 144
        }
      ]
    },
    {
      "cell_type": "code",
      "source": [
        "x.argmax()"
      ],
      "metadata": {
        "colab": {
          "base_uri": "https://localhost:8080/"
        },
        "id": "XJOPw05tfHQW",
        "outputId": "d5a29de2-1af0-4766-ccbe-63788fb08275"
      },
      "execution_count": null,
      "outputs": [
        {
          "output_type": "execute_result",
          "data": {
            "text/plain": [
              "tensor(11)"
            ]
          },
          "metadata": {},
          "execution_count": 145
        }
      ]
    },
    {
      "cell_type": "code",
      "source": [
        "x[x.argmin().item()]"
      ],
      "metadata": {
        "colab": {
          "base_uri": "https://localhost:8080/"
        },
        "id": "_3pikIx-fH9n",
        "outputId": "4e0158f6-c1ad-4182-b432-db87d1351c82"
      },
      "execution_count": null,
      "outputs": [
        {
          "output_type": "execute_result",
          "data": {
            "text/plain": [
              "tensor(1)"
            ]
          },
          "metadata": {},
          "execution_count": 146
        }
      ]
    },
    {
      "cell_type": "code",
      "source": [
        "x[x.argmax().item()]"
      ],
      "metadata": {
        "colab": {
          "base_uri": "https://localhost:8080/"
        },
        "id": "JxQ2ejFkfXVe",
        "outputId": "f354eafd-70b3-4ddc-e485-7b79441583b8"
      },
      "execution_count": null,
      "outputs": [
        {
          "output_type": "execute_result",
          "data": {
            "text/plain": [
              "tensor(122)"
            ]
          },
          "metadata": {},
          "execution_count": 147
        }
      ]
    },
    {
      "cell_type": "markdown",
      "source": [
        "### Reshaping, Viewing, and Stacking\n"
      ],
      "metadata": {
        "id": "ssH_LkL7xJ1v"
      }
    },
    {
      "cell_type": "code",
      "source": [
        "tensor = torch.arange(1, 123, 11)\n",
        "tensor"
      ],
      "metadata": {
        "colab": {
          "base_uri": "https://localhost:8080/"
        },
        "id": "wlTmJtE1fd2P",
        "outputId": "5576a6e1-14c5-491b-8290-ce89876b74c6"
      },
      "execution_count": null,
      "outputs": [
        {
          "output_type": "execute_result",
          "data": {
            "text/plain": [
              "tensor([  1,  12,  23,  34,  45,  56,  67,  78,  89, 100, 111, 122])"
            ]
          },
          "metadata": {},
          "execution_count": 149
        }
      ]
    },
    {
      "cell_type": "markdown",
      "source": [
        "Reshape is one of the sources of problems.\n",
        "- Reshaping - reshapes an input tensor to a defined shape\n",
        "- View - return a view of an input tensor of certain shape, but keep the memory as the original tensor\n",
        "- Stacking - combine multiple tensors on top of each other.\n",
        "- Squeeze - Removes all \"1\" dimensions from a tensor\n",
        "- Unsqueeze - Add a \"1\" dimension to a target tensor\n",
        "- Permute - Return a view of the input with dimensions permuted (swapped) in a certain way.\n",
        "\n",
        "### Stack types\n",
        "torch.stacks concatenates a sequence of tensors ALONG A NEW DIMENSION"
      ],
      "metadata": {
        "id": "8_HYBuzPxSh7"
      }
    },
    {
      "cell_type": "code",
      "source": [
        "#\n",
        "x = torch.arange(1., 11., 1)\n",
        "x, x.shape"
      ],
      "metadata": {
        "id": "rzNpK074xQhc",
        "colab": {
          "base_uri": "https://localhost:8080/"
        },
        "outputId": "a1e53a55-3ac8-4f44-c5e1-0eb935f73577"
      },
      "execution_count": null,
      "outputs": [
        {
          "output_type": "execute_result",
          "data": {
            "text/plain": [
              "(tensor([ 1.,  2.,  3.,  4.,  5.,  6.,  7.,  8.,  9., 10.]), torch.Size([10]))"
            ]
          },
          "metadata": {},
          "execution_count": 2
        }
      ]
    },
    {
      "cell_type": "code",
      "source": [
        "# Add an extra dimension\n",
        "# The dimensions have to be compatible with the original dimensions.\n",
        "x_reshaped = x.reshape(1, 10)\n",
        "x_reshaped, x_reshaped.shape"
      ],
      "metadata": {
        "colab": {
          "base_uri": "https://localhost:8080/"
        },
        "id": "YKhdnXfzvAAG",
        "outputId": "8ef1cfb6-cd14-4e27-9ba7-9daeb86fa951"
      },
      "execution_count": null,
      "outputs": [
        {
          "output_type": "execute_result",
          "data": {
            "text/plain": [
              "(tensor([[ 1.,  2.,  3.,  4.,  5.,  6.,  7.,  8.,  9., 10.]]),\n",
              " torch.Size([1, 10]))"
            ]
          },
          "metadata": {},
          "execution_count": 5
        }
      ]
    },
    {
      "cell_type": "code",
      "source": [
        "x_reshaped = x.reshape(1,8) #This will tell us that this is not possible"
      ],
      "metadata": {
        "colab": {
          "base_uri": "https://localhost:8080/",
          "height": 146
        },
        "id": "fUSLCzsyvNqK",
        "outputId": "1ebcf895-b0d2-4d7b-8f40-c182d9b66ecd"
      },
      "execution_count": null,
      "outputs": [
        {
          "output_type": "error",
          "ename": "RuntimeError",
          "evalue": "shape '[1, 8]' is invalid for input of size 10",
          "traceback": [
            "\u001b[0;31m---------------------------------------------------------------------------\u001b[0m",
            "\u001b[0;31mRuntimeError\u001b[0m                              Traceback (most recent call last)",
            "\u001b[0;32m<ipython-input-6-926779ef13f6>\u001b[0m in \u001b[0;36m<cell line: 1>\u001b[0;34m()\u001b[0m\n\u001b[0;32m----> 1\u001b[0;31m \u001b[0mx_reshaped\u001b[0m \u001b[0;34m=\u001b[0m \u001b[0mx\u001b[0m\u001b[0;34m.\u001b[0m\u001b[0mreshape\u001b[0m\u001b[0;34m(\u001b[0m\u001b[0;36m1\u001b[0m\u001b[0;34m,\u001b[0m\u001b[0;36m8\u001b[0m\u001b[0;34m)\u001b[0m \u001b[0;31m#This will tell us that this is not possible\u001b[0m\u001b[0;34m\u001b[0m\u001b[0;34m\u001b[0m\u001b[0m\n\u001b[0m",
            "\u001b[0;31mRuntimeError\u001b[0m: shape '[1, 8]' is invalid for input of size 10"
          ]
        }
      ]
    },
    {
      "cell_type": "code",
      "source": [
        "x_reshaped_2 = x.reshape(2, 5)\n",
        "x_reshaped_2"
      ],
      "metadata": {
        "colab": {
          "base_uri": "https://localhost:8080/"
        },
        "id": "7sH0twkDvWZg",
        "outputId": "144bc3d3-1989-4d58-adfc-58779770564a"
      },
      "execution_count": null,
      "outputs": [
        {
          "output_type": "execute_result",
          "data": {
            "text/plain": [
              "tensor([[ 1.,  2.,  3.,  4.,  5.],\n",
              "        [ 6.,  7.,  8.,  9., 10.]])"
            ]
          },
          "metadata": {},
          "execution_count": 7
        }
      ]
    },
    {
      "cell_type": "code",
      "source": [
        "xreshape3 = x.reshape(10, 1)\n",
        "xreshape3, xreshape3.shape"
      ],
      "metadata": {
        "colab": {
          "base_uri": "https://localhost:8080/"
        },
        "id": "IOv9LgrQvZb4",
        "outputId": "768b25ee-98e6-4eb3-93d5-c20227d9f36b"
      },
      "execution_count": null,
      "outputs": [
        {
          "output_type": "execute_result",
          "data": {
            "text/plain": [
              "(tensor([[ 1.],\n",
              "         [ 2.],\n",
              "         [ 3.],\n",
              "         [ 4.],\n",
              "         [ 5.],\n",
              "         [ 6.],\n",
              "         [ 7.],\n",
              "         [ 8.],\n",
              "         [ 9.],\n",
              "         [10.]]),\n",
              " torch.Size([10, 1]))"
            ]
          },
          "metadata": {},
          "execution_count": 8
        }
      ]
    },
    {
      "cell_type": "code",
      "source": [
        "xreshape4 = x.reshape(10, -1)\n",
        "xreshape4, xreshape4.shape, xreshape4.ndim"
      ],
      "metadata": {
        "colab": {
          "base_uri": "https://localhost:8080/"
        },
        "id": "vAK6pifivg3X",
        "outputId": "968d1b32-9419-4813-c2bb-019946bf3f57"
      },
      "execution_count": null,
      "outputs": [
        {
          "output_type": "execute_result",
          "data": {
            "text/plain": [
              "(tensor([[ 1.],\n",
              "         [ 2.],\n",
              "         [ 3.],\n",
              "         [ 4.],\n",
              "         [ 5.],\n",
              "         [ 6.],\n",
              "         [ 7.],\n",
              "         [ 8.],\n",
              "         [ 9.],\n",
              "         [10.]]),\n",
              " torch.Size([10, 1]),\n",
              " 2)"
            ]
          },
          "metadata": {},
          "execution_count": 14
        }
      ]
    },
    {
      "cell_type": "code",
      "source": [
        "xreshape5 = x.reshape(10, )\n",
        "xreshape5, xreshape5.shape, xreshape5.ndim"
      ],
      "metadata": {
        "colab": {
          "base_uri": "https://localhost:8080/"
        },
        "id": "08RwZ2qgvjIF",
        "outputId": "299a463a-84f2-4ff0-99a0-b390fa7655e9"
      },
      "execution_count": null,
      "outputs": [
        {
          "output_type": "execute_result",
          "data": {
            "text/plain": [
              "(tensor([ 1.,  2.,  3.,  4.,  5.,  6.,  7.,  8.,  9., 10.]),\n",
              " torch.Size([10]),\n",
              " 1)"
            ]
          },
          "metadata": {},
          "execution_count": 13
        }
      ]
    },
    {
      "cell_type": "code",
      "source": [
        "xreshape6 = x.reshape(10)\n",
        "xreshape6, xreshape6.shape, xreshape6.ndim"
      ],
      "metadata": {
        "colab": {
          "base_uri": "https://localhost:8080/"
        },
        "id": "nal7WhjOvqMl",
        "outputId": "9cc43ffa-79ef-4028-ffdd-df9530114835"
      },
      "execution_count": null,
      "outputs": [
        {
          "output_type": "execute_result",
          "data": {
            "text/plain": [
              "(tensor([ 1.,  2.,  3.,  4.,  5.,  6.,  7.,  8.,  9., 10.]),\n",
              " torch.Size([10]),\n",
              " 1)"
            ]
          },
          "metadata": {},
          "execution_count": 15
        }
      ]
    },
    {
      "cell_type": "code",
      "source": [
        "# View\n",
        "display(x)\n",
        "display(x.shape)\n",
        "display(x.ndim)\n",
        "z = x.view(1, 10)\n",
        "z, z.shape, z.ndim"
      ],
      "metadata": {
        "colab": {
          "base_uri": "https://localhost:8080/",
          "height": 126
        },
        "id": "ifxphcy7v1aF",
        "outputId": "072ce015-dba7-4483-8245-2c20350d70b5"
      },
      "execution_count": null,
      "outputs": [
        {
          "output_type": "display_data",
          "data": {
            "text/plain": [
              "tensor([ 1.,  2.,  3.,  4.,  5.,  6.,  7.,  8.,  9., 10.])"
            ]
          },
          "metadata": {}
        },
        {
          "output_type": "display_data",
          "data": {
            "text/plain": [
              "torch.Size([10])"
            ]
          },
          "metadata": {}
        },
        {
          "output_type": "display_data",
          "data": {
            "text/plain": [
              "1"
            ]
          },
          "metadata": {}
        },
        {
          "output_type": "execute_result",
          "data": {
            "text/plain": [
              "(tensor([[ 1.,  2.,  3.,  4.,  5.,  6.,  7.,  8.,  9., 10.]]),\n",
              " torch.Size([1, 10]),\n",
              " 2)"
            ]
          },
          "metadata": {},
          "execution_count": 18
        }
      ]
    },
    {
      "cell_type": "code",
      "source": [
        "# Changing z changes x, as a view is not a new instance\n",
        "z[:, 0] = 5\n",
        "z, x"
      ],
      "metadata": {
        "colab": {
          "base_uri": "https://localhost:8080/"
        },
        "id": "pjLZRgo8v5T_",
        "outputId": "18cf68d2-ded6-48d3-cb6b-6a4d2253eb9d"
      },
      "execution_count": null,
      "outputs": [
        {
          "output_type": "execute_result",
          "data": {
            "text/plain": [
              "(tensor([[ 5.,  2.,  3.,  4.,  5.,  6.,  7.,  8.,  9., 10.]]),\n",
              " tensor([ 5.,  2.,  3.,  4.,  5.,  6.,  7.,  8.,  9., 10.]))"
            ]
          },
          "metadata": {},
          "execution_count": 19
        }
      ]
    },
    {
      "cell_type": "code",
      "source": [
        "# Stack tensors\n",
        "x_stacked = torch.stack([x, x, x, x], dim=0) #We define the dimension, but by default it's dim 0\n",
        "x_stacked, x_stacked.shape, x_stacked.ndim"
      ],
      "metadata": {
        "colab": {
          "base_uri": "https://localhost:8080/"
        },
        "id": "tTiq1kpXwLhv",
        "outputId": "1fb2c23e-ce2c-4ef7-a777-5986ceaab7ee"
      },
      "execution_count": null,
      "outputs": [
        {
          "output_type": "execute_result",
          "data": {
            "text/plain": [
              "(tensor([[ 5.,  2.,  3.,  4.,  5.,  6.,  7.,  8.,  9., 10.],\n",
              "         [ 5.,  2.,  3.,  4.,  5.,  6.,  7.,  8.,  9., 10.],\n",
              "         [ 5.,  2.,  3.,  4.,  5.,  6.,  7.,  8.,  9., 10.],\n",
              "         [ 5.,  2.,  3.,  4.,  5.,  6.,  7.,  8.,  9., 10.]]),\n",
              " torch.Size([4, 10]),\n",
              " 2)"
            ]
          },
          "metadata": {},
          "execution_count": 26
        }
      ]
    },
    {
      "cell_type": "code",
      "source": [
        "xs = torch.stack([x, x, x, x], dim=1)\n",
        "xs, xs.shape, xs.ndim"
      ],
      "metadata": {
        "colab": {
          "base_uri": "https://localhost:8080/"
        },
        "id": "7YVzX3NfwQCw",
        "outputId": "258e79e5-26a8-439c-f640-ffb0dba815da"
      },
      "execution_count": null,
      "outputs": [
        {
          "output_type": "execute_result",
          "data": {
            "text/plain": [
              "(tensor([[ 5.,  5.,  5.,  5.],\n",
              "         [ 2.,  2.,  2.,  2.],\n",
              "         [ 3.,  3.,  3.,  3.],\n",
              "         [ 4.,  4.,  4.,  4.],\n",
              "         [ 5.,  5.,  5.,  5.],\n",
              "         [ 6.,  6.,  6.,  6.],\n",
              "         [ 7.,  7.,  7.,  7.],\n",
              "         [ 8.,  8.,  8.,  8.],\n",
              "         [ 9.,  9.,  9.,  9.],\n",
              "         [10., 10., 10., 10.]]),\n",
              " torch.Size([10, 4]),\n",
              " 2)"
            ]
          },
          "metadata": {},
          "execution_count": 27
        }
      ]
    },
    {
      "cell_type": "code",
      "source": [
        "xs2 = torch.stack([x, x, x, x], dim=2) #Here my guess is we don't have a third dimension, so this happens.\n",
        "xs2, xs2.shape, xs2.ndim"
      ],
      "metadata": {
        "colab": {
          "base_uri": "https://localhost:8080/",
          "height": 182
        },
        "id": "Y7Z6bffCwhZ-",
        "outputId": "351e67d1-b60c-40c9-a6df-ea9f20ee9c62"
      },
      "execution_count": null,
      "outputs": [
        {
          "output_type": "error",
          "ename": "IndexError",
          "evalue": "Dimension out of range (expected to be in range of [-2, 1], but got 2)",
          "traceback": [
            "\u001b[0;31m---------------------------------------------------------------------------\u001b[0m",
            "\u001b[0;31mIndexError\u001b[0m                                Traceback (most recent call last)",
            "\u001b[0;32m<ipython-input-28-f92623c94dad>\u001b[0m in \u001b[0;36m<cell line: 1>\u001b[0;34m()\u001b[0m\n\u001b[0;32m----> 1\u001b[0;31m \u001b[0mxs2\u001b[0m \u001b[0;34m=\u001b[0m \u001b[0mtorch\u001b[0m\u001b[0;34m.\u001b[0m\u001b[0mstack\u001b[0m\u001b[0;34m(\u001b[0m\u001b[0;34m[\u001b[0m\u001b[0mx\u001b[0m\u001b[0;34m,\u001b[0m \u001b[0mx\u001b[0m\u001b[0;34m,\u001b[0m \u001b[0mx\u001b[0m\u001b[0;34m,\u001b[0m \u001b[0mx\u001b[0m\u001b[0;34m]\u001b[0m\u001b[0;34m,\u001b[0m \u001b[0mdim\u001b[0m\u001b[0;34m=\u001b[0m\u001b[0;36m2\u001b[0m\u001b[0;34m)\u001b[0m\u001b[0;34m\u001b[0m\u001b[0;34m\u001b[0m\u001b[0m\n\u001b[0m\u001b[1;32m      2\u001b[0m \u001b[0mxs2\u001b[0m\u001b[0;34m,\u001b[0m \u001b[0mxs2\u001b[0m\u001b[0;34m.\u001b[0m\u001b[0mshape\u001b[0m\u001b[0;34m,\u001b[0m \u001b[0mxs2\u001b[0m\u001b[0;34m.\u001b[0m\u001b[0mndim\u001b[0m\u001b[0;34m\u001b[0m\u001b[0;34m\u001b[0m\u001b[0m\n",
            "\u001b[0;31mIndexError\u001b[0m: Dimension out of range (expected to be in range of [-2, 1], but got 2)"
          ]
        }
      ]
    },
    {
      "cell_type": "markdown",
      "source": [
        "## Squeeze, unsqueeze, Permute\n",
        "Squeeze removes all \"1\" dimensions from a target. If you have a tensor that you want to turn into a list, you can see how this can be useful.\n",
        "Dimensions which have a \"1\" size will be \"dissolved\" so to speak. I don't think that necessarily means data loss."
      ],
      "metadata": {
        "id": "ZyX7OO0jxURN"
      }
    },
    {
      "cell_type": "code",
      "source": [
        "x = torch.rand((2, 1))\n",
        "y = torch.squeeze(x)\n",
        "x, y, x.shape, y.shape, x.ndim, y.ndim"
      ],
      "metadata": {
        "colab": {
          "base_uri": "https://localhost:8080/"
        },
        "id": "yFFeVwaRwubG",
        "outputId": "6bf410b4-0d99-451e-f4e0-8707d0279e17"
      },
      "execution_count": null,
      "outputs": [
        {
          "output_type": "execute_result",
          "data": {
            "text/plain": [
              "(tensor([[0.1501],\n",
              "         [0.0598]]),\n",
              " tensor([0.1501, 0.0598]),\n",
              " torch.Size([2, 1]),\n",
              " torch.Size([2]),\n",
              " 2,\n",
              " 1)"
            ]
          },
          "metadata": {},
          "execution_count": 33
        }
      ]
    },
    {
      "cell_type": "code",
      "source": [
        "x = torch.rand((1, 20))\n",
        "y = torch.squeeze(x)\n",
        "x, y, x.shape, y.shape, x.ndim, y.ndim"
      ],
      "metadata": {
        "colab": {
          "base_uri": "https://localhost:8080/"
        },
        "id": "hg0_uoeTxp24",
        "outputId": "07d513dc-a15a-4206-d8a0-78d03e3d6380"
      },
      "execution_count": null,
      "outputs": [
        {
          "output_type": "execute_result",
          "data": {
            "text/plain": [
              "(tensor([[0.1413, 0.9571, 0.0811, 0.7496, 0.9587, 0.2009, 0.1154, 0.1904, 0.6180,\n",
              "          0.4428, 0.9342, 0.2858, 0.5183, 0.1647, 0.8905, 0.8437, 0.1531, 0.8048,\n",
              "          0.6827, 0.0692]]),\n",
              " tensor([0.1413, 0.9571, 0.0811, 0.7496, 0.9587, 0.2009, 0.1154, 0.1904, 0.6180,\n",
              "         0.4428, 0.9342, 0.2858, 0.5183, 0.1647, 0.8905, 0.8437, 0.1531, 0.8048,\n",
              "         0.6827, 0.0692]),\n",
              " torch.Size([1, 20]),\n",
              " torch.Size([20]),\n",
              " 2,\n",
              " 1)"
            ]
          },
          "metadata": {},
          "execution_count": 34
        }
      ]
    },
    {
      "cell_type": "code",
      "source": [
        "# Unsqueeze: Adds a single dimension to a target tensor at a specific dim (dimension)\n",
        "x = torch.randn((3, 2))\n",
        "y = torch.unsqueeze(x, dim=0)\n",
        "x, y, x.shape, y.shape, x.ndim, y.ndim"
      ],
      "metadata": {
        "colab": {
          "base_uri": "https://localhost:8080/"
        },
        "id": "e-VRXt3Yx4pf",
        "outputId": "43f669e8-8979-452b-a337-e51f7dd1033b"
      },
      "execution_count": null,
      "outputs": [
        {
          "output_type": "execute_result",
          "data": {
            "text/plain": [
              "(tensor([[-0.3700, -0.8110],\n",
              "         [ 1.1649,  0.7109],\n",
              "         [-0.2753, -0.2158]]),\n",
              " tensor([[[-0.3700, -0.8110],\n",
              "          [ 1.1649,  0.7109],\n",
              "          [-0.2753, -0.2158]]]),\n",
              " torch.Size([3, 2]),\n",
              " torch.Size([1, 3, 2]),\n",
              " 2,\n",
              " 3)"
            ]
          },
          "metadata": {},
          "execution_count": 36
        }
      ]
    },
    {
      "cell_type": "code",
      "source": [
        "x = torch.randn((1, 1))\n",
        "y = torch.unsqueeze(x, dim=1)\n",
        "x, y, x.shape, y.shape, x.ndim, y.ndim"
      ],
      "metadata": {
        "colab": {
          "base_uri": "https://localhost:8080/"
        },
        "id": "9t5PE4JXyPGR",
        "outputId": "815ec384-1068-4b64-d0d0-dc9abc7d15cf"
      },
      "execution_count": null,
      "outputs": [
        {
          "output_type": "execute_result",
          "data": {
            "text/plain": [
              "(tensor([[0.1340]]),\n",
              " tensor([[[0.1340]]]),\n",
              " torch.Size([1, 1]),\n",
              " torch.Size([1, 1, 1]),\n",
              " 2,\n",
              " 3)"
            ]
          },
          "metadata": {},
          "execution_count": 39
        }
      ]
    },
    {
      "cell_type": "code",
      "source": [
        "x = torch.randn((2, 7))\n",
        "y = torch.unsqueeze(x, dim=1)\n",
        "x, y, x.shape, y.shape, x.ndim, y.ndim"
      ],
      "metadata": {
        "colab": {
          "base_uri": "https://localhost:8080/"
        },
        "id": "7MBkc6XyyZT3",
        "outputId": "3ceea76e-a3e0-49c3-824d-15c84a6d94d9"
      },
      "execution_count": null,
      "outputs": [
        {
          "output_type": "execute_result",
          "data": {
            "text/plain": [
              "(tensor([[-0.7359, -1.3037,  0.1634,  0.3618, -0.5923,  2.2682,  0.3230],\n",
              "         [-3.4899,  1.1723, -0.9126,  0.2069, -1.5390, -1.0569,  0.7860]]),\n",
              " tensor([[[-0.7359, -1.3037,  0.1634,  0.3618, -0.5923,  2.2682,  0.3230]],\n",
              " \n",
              "         [[-3.4899,  1.1723, -0.9126,  0.2069, -1.5390, -1.0569,  0.7860]]]),\n",
              " torch.Size([2, 7]),\n",
              " torch.Size([2, 1, 7]),\n",
              " 2,\n",
              " 3)"
            ]
          },
          "metadata": {},
          "execution_count": 42
        }
      ]
    },
    {
      "cell_type": "code",
      "source": [
        "#Permute - rearranges the dimensions of a target tensor in a specified order\n",
        "# Note that it returns a VIEW of the original tensor input. That means modifying it modifies the original.\n",
        "# It's common to see this in images.\n",
        "\n",
        "x = torch.randn(2, 3, 5)\n",
        "display(x.size())\n",
        "y = torch.permute(x, (2, 0, 1))\n",
        "display(y.size())\n",
        "display(x)\n",
        "display(y)"
      ],
      "metadata": {
        "colab": {
          "base_uri": "https://localhost:8080/",
          "height": 434
        },
        "id": "wIb39I3GynSS",
        "outputId": "279c7c04-9e43-47df-a9f4-e45e600f1306"
      },
      "execution_count": null,
      "outputs": [
        {
          "output_type": "display_data",
          "data": {
            "text/plain": [
              "torch.Size([2, 3, 5])"
            ]
          },
          "metadata": {}
        },
        {
          "output_type": "display_data",
          "data": {
            "text/plain": [
              "torch.Size([5, 2, 3])"
            ]
          },
          "metadata": {}
        },
        {
          "output_type": "display_data",
          "data": {
            "text/plain": [
              "tensor([[[ 8.3887e-02,  2.8687e-03, -2.7764e-01,  6.0835e-01, -2.8858e-02],\n",
              "         [ 1.4438e-01,  2.4628e+00,  3.0026e+00, -2.8761e-01,  7.5003e-01],\n",
              "         [-7.4273e-01,  1.1583e+00, -1.9774e-01, -1.0895e+00, -1.7543e+00]],\n",
              "\n",
              "        [[ 3.9556e-01,  7.0030e-01, -3.1054e-01, -5.1727e-01, -2.4754e-01],\n",
              "         [ 7.5251e-01, -7.1377e-02, -3.3968e-03,  6.3299e-01,  7.6840e-01],\n",
              "         [ 2.1363e+00, -4.0524e-02,  3.1125e-01,  6.1325e-01, -7.0543e-02]]])"
            ]
          },
          "metadata": {}
        },
        {
          "output_type": "display_data",
          "data": {
            "text/plain": [
              "tensor([[[ 8.3887e-02,  1.4438e-01, -7.4273e-01],\n",
              "         [ 3.9556e-01,  7.5251e-01,  2.1363e+00]],\n",
              "\n",
              "        [[ 2.8687e-03,  2.4628e+00,  1.1583e+00],\n",
              "         [ 7.0030e-01, -7.1377e-02, -4.0524e-02]],\n",
              "\n",
              "        [[-2.7764e-01,  3.0026e+00, -1.9774e-01],\n",
              "         [-3.1054e-01, -3.3968e-03,  3.1125e-01]],\n",
              "\n",
              "        [[ 6.0835e-01, -2.8761e-01, -1.0895e+00],\n",
              "         [-5.1727e-01,  6.3299e-01,  6.1325e-01]],\n",
              "\n",
              "        [[-2.8858e-02,  7.5003e-01, -1.7543e+00],\n",
              "         [-2.4754e-01,  7.6840e-01, -7.0543e-02]]])"
            ]
          },
          "metadata": {}
        }
      ]
    },
    {
      "cell_type": "code",
      "source": [
        "x = torch.randn((3, 224, 224))\n",
        "y = torch.permute(x, ((1, 2, 0))) #Shift and place the # of channels at the end.\n",
        "display(y.shape)\n",
        "display(x.shape)\n",
        "display(x)\n",
        "display(y)"
      ],
      "metadata": {
        "colab": {
          "base_uri": "https://localhost:8080/",
          "height": 1000
        },
        "id": "1SlDEG07zBil",
        "outputId": "bfb1107b-83cb-4bcc-ef96-e085ef0c38d5"
      },
      "execution_count": null,
      "outputs": [
        {
          "output_type": "display_data",
          "data": {
            "text/plain": [
              "torch.Size([224, 224, 3])"
            ]
          },
          "metadata": {}
        },
        {
          "output_type": "display_data",
          "data": {
            "text/plain": [
              "torch.Size([3, 224, 224])"
            ]
          },
          "metadata": {}
        },
        {
          "output_type": "display_data",
          "data": {
            "text/plain": [
              "tensor([[[-2.3946,  1.2970, -0.5927,  ...,  0.1899, -0.6041,  0.4061],\n",
              "         [ 0.4394,  1.0205,  0.2047,  ..., -0.6674,  0.3413, -1.4071],\n",
              "         [-0.3512, -1.4653, -0.5636,  ...,  0.3621, -0.9611, -0.3425],\n",
              "         ...,\n",
              "         [ 0.4298,  0.3118,  0.1490,  ...,  2.3798, -0.9221, -0.5985],\n",
              "         [ 1.0519,  1.0841,  1.2245,  ...,  0.0734,  0.3956, -0.0513],\n",
              "         [ 1.5514,  0.5091,  0.5157,  ...,  0.2007,  0.9563, -0.8880]],\n",
              "\n",
              "        [[ 0.3922,  0.8031,  0.5586,  ...,  0.5706,  1.1159, -0.1373],\n",
              "         [-0.2979,  1.2947, -0.9456,  ...,  2.4974,  0.3412, -0.5854],\n",
              "         [-0.1415, -0.5968,  0.3512,  ..., -0.2781, -0.1609, -0.3078],\n",
              "         ...,\n",
              "         [ 0.9989,  0.1504, -1.4251,  ...,  1.2049,  1.3794,  0.4523],\n",
              "         [ 0.9639,  1.6826,  1.0754,  ...,  0.9314, -0.0096, -0.1676],\n",
              "         [-0.8348,  0.4865,  0.6066,  ...,  1.3751, -0.5372, -0.2740]],\n",
              "\n",
              "        [[-0.2232, -0.4847,  1.1859,  ...,  1.3367,  0.2214,  0.2265],\n",
              "         [-1.2972, -0.5633,  0.5234,  ..., -2.3734, -0.1284,  0.7480],\n",
              "         [ 1.0942, -0.5249, -0.1862,  ..., -1.6743,  1.8947, -0.2329],\n",
              "         ...,\n",
              "         [ 1.1082,  1.5492, -0.5784,  ...,  0.1407, -0.6532, -0.6498],\n",
              "         [-1.3630,  1.0129, -0.6425,  ..., -1.2671, -1.9214,  1.7260],\n",
              "         [-1.2681,  0.0639,  0.1260,  ...,  0.1363, -0.5184, -1.2405]]])"
            ]
          },
          "metadata": {}
        },
        {
          "output_type": "display_data",
          "data": {
            "text/plain": [
              "tensor([[[-2.3946,  0.3922, -0.2232],\n",
              "         [ 1.2970,  0.8031, -0.4847],\n",
              "         [-0.5927,  0.5586,  1.1859],\n",
              "         ...,\n",
              "         [ 0.1899,  0.5706,  1.3367],\n",
              "         [-0.6041,  1.1159,  0.2214],\n",
              "         [ 0.4061, -0.1373,  0.2265]],\n",
              "\n",
              "        [[ 0.4394, -0.2979, -1.2972],\n",
              "         [ 1.0205,  1.2947, -0.5633],\n",
              "         [ 0.2047, -0.9456,  0.5234],\n",
              "         ...,\n",
              "         [-0.6674,  2.4974, -2.3734],\n",
              "         [ 0.3413,  0.3412, -0.1284],\n",
              "         [-1.4071, -0.5854,  0.7480]],\n",
              "\n",
              "        [[-0.3512, -0.1415,  1.0942],\n",
              "         [-1.4653, -0.5968, -0.5249],\n",
              "         [-0.5636,  0.3512, -0.1862],\n",
              "         ...,\n",
              "         [ 0.3621, -0.2781, -1.6743],\n",
              "         [-0.9611, -0.1609,  1.8947],\n",
              "         [-0.3425, -0.3078, -0.2329]],\n",
              "\n",
              "        ...,\n",
              "\n",
              "        [[ 0.4298,  0.9989,  1.1082],\n",
              "         [ 0.3118,  0.1504,  1.5492],\n",
              "         [ 0.1490, -1.4251, -0.5784],\n",
              "         ...,\n",
              "         [ 2.3798,  1.2049,  0.1407],\n",
              "         [-0.9221,  1.3794, -0.6532],\n",
              "         [-0.5985,  0.4523, -0.6498]],\n",
              "\n",
              "        [[ 1.0519,  0.9639, -1.3630],\n",
              "         [ 1.0841,  1.6826,  1.0129],\n",
              "         [ 1.2245,  1.0754, -0.6425],\n",
              "         ...,\n",
              "         [ 0.0734,  0.9314, -1.2671],\n",
              "         [ 0.3956, -0.0096, -1.9214],\n",
              "         [-0.0513, -0.1676,  1.7260]],\n",
              "\n",
              "        [[ 1.5514, -0.8348, -1.2681],\n",
              "         [ 0.5091,  0.4865,  0.0639],\n",
              "         [ 0.5157,  0.6066,  0.1260],\n",
              "         ...,\n",
              "         [ 0.2007,  1.3751,  0.1363],\n",
              "         [ 0.9563, -0.5372, -0.5184],\n",
              "         [-0.8880, -0.2740, -1.2405]]])"
            ]
          },
          "metadata": {}
        }
      ]
    },
    {
      "cell_type": "code",
      "source": [
        "x[0, 0, :] = 0.37\n",
        "y[:, 0, 0] = 0.37\n",
        "x, y"
      ],
      "metadata": {
        "colab": {
          "base_uri": "https://localhost:8080/"
        },
        "id": "HweEpqI3zcx2",
        "outputId": "1a2f0e90-3b15-439b-c1fe-f88e4db6fea9"
      },
      "execution_count": null,
      "outputs": [
        {
          "output_type": "execute_result",
          "data": {
            "text/plain": [
              "(tensor([[[ 0.3700,  0.3700,  0.3700,  ...,  0.3700,  0.3700,  0.3700],\n",
              "          [ 0.3700,  1.0205,  0.2047,  ..., -0.6674,  0.3413, -1.4071],\n",
              "          [ 0.3700, -1.4653, -0.5636,  ...,  0.3621, -0.9611, -0.3425],\n",
              "          ...,\n",
              "          [ 0.3700,  0.3118,  0.1490,  ...,  2.3798, -0.9221, -0.5985],\n",
              "          [ 0.3700,  1.0841,  1.2245,  ...,  0.0734,  0.3956, -0.0513],\n",
              "          [ 0.3700,  0.5091,  0.5157,  ...,  0.2007,  0.9563, -0.8880]],\n",
              " \n",
              "         [[ 0.3922,  0.8031,  0.5586,  ...,  0.5706,  1.1159, -0.1373],\n",
              "          [-0.2979,  1.2947, -0.9456,  ...,  2.4974,  0.3412, -0.5854],\n",
              "          [-0.1415, -0.5968,  0.3512,  ..., -0.2781, -0.1609, -0.3078],\n",
              "          ...,\n",
              "          [ 0.9989,  0.1504, -1.4251,  ...,  1.2049,  1.3794,  0.4523],\n",
              "          [ 0.9639,  1.6826,  1.0754,  ...,  0.9314, -0.0096, -0.1676],\n",
              "          [-0.8348,  0.4865,  0.6066,  ...,  1.3751, -0.5372, -0.2740]],\n",
              " \n",
              "         [[-0.2232, -0.4847,  1.1859,  ...,  1.3367,  0.2214,  0.2265],\n",
              "          [-1.2972, -0.5633,  0.5234,  ..., -2.3734, -0.1284,  0.7480],\n",
              "          [ 1.0942, -0.5249, -0.1862,  ..., -1.6743,  1.8947, -0.2329],\n",
              "          ...,\n",
              "          [ 1.1082,  1.5492, -0.5784,  ...,  0.1407, -0.6532, -0.6498],\n",
              "          [-1.3630,  1.0129, -0.6425,  ..., -1.2671, -1.9214,  1.7260],\n",
              "          [-1.2681,  0.0639,  0.1260,  ...,  0.1363, -0.5184, -1.2405]]]),\n",
              " tensor([[[ 0.3700,  0.3922, -0.2232],\n",
              "          [ 0.3700,  0.8031, -0.4847],\n",
              "          [ 0.3700,  0.5586,  1.1859],\n",
              "          ...,\n",
              "          [ 0.3700,  0.5706,  1.3367],\n",
              "          [ 0.3700,  1.1159,  0.2214],\n",
              "          [ 0.3700, -0.1373,  0.2265]],\n",
              " \n",
              "         [[ 0.3700, -0.2979, -1.2972],\n",
              "          [ 1.0205,  1.2947, -0.5633],\n",
              "          [ 0.2047, -0.9456,  0.5234],\n",
              "          ...,\n",
              "          [-0.6674,  2.4974, -2.3734],\n",
              "          [ 0.3413,  0.3412, -0.1284],\n",
              "          [-1.4071, -0.5854,  0.7480]],\n",
              " \n",
              "         [[ 0.3700, -0.1415,  1.0942],\n",
              "          [-1.4653, -0.5968, -0.5249],\n",
              "          [-0.5636,  0.3512, -0.1862],\n",
              "          ...,\n",
              "          [ 0.3621, -0.2781, -1.6743],\n",
              "          [-0.9611, -0.1609,  1.8947],\n",
              "          [-0.3425, -0.3078, -0.2329]],\n",
              " \n",
              "         ...,\n",
              " \n",
              "         [[ 0.3700,  0.9989,  1.1082],\n",
              "          [ 0.3118,  0.1504,  1.5492],\n",
              "          [ 0.1490, -1.4251, -0.5784],\n",
              "          ...,\n",
              "          [ 2.3798,  1.2049,  0.1407],\n",
              "          [-0.9221,  1.3794, -0.6532],\n",
              "          [-0.5985,  0.4523, -0.6498]],\n",
              " \n",
              "         [[ 0.3700,  0.9639, -1.3630],\n",
              "          [ 1.0841,  1.6826,  1.0129],\n",
              "          [ 1.2245,  1.0754, -0.6425],\n",
              "          ...,\n",
              "          [ 0.0734,  0.9314, -1.2671],\n",
              "          [ 0.3956, -0.0096, -1.9214],\n",
              "          [-0.0513, -0.1676,  1.7260]],\n",
              " \n",
              "         [[ 0.3700, -0.8348, -1.2681],\n",
              "          [ 0.5091,  0.4865,  0.0639],\n",
              "          [ 0.5157,  0.6066,  0.1260],\n",
              "          ...,\n",
              "          [ 0.2007,  1.3751,  0.1363],\n",
              "          [ 0.9563, -0.5372, -0.5184],\n",
              "          [-0.8880, -0.2740, -1.2405]]]))"
            ]
          },
          "metadata": {},
          "execution_count": 56
        }
      ]
    },
    {
      "cell_type": "markdown",
      "source": [
        "### Indexing\n",
        "Similar to NumPy indexing."
      ],
      "metadata": {
        "id": "XAnzv_LB0U6H"
      }
    },
    {
      "cell_type": "code",
      "source": [
        "tensor = torch.arange(1, 10).reshape(1, 3, 3)\n",
        "tensor, tensor.shape"
      ],
      "metadata": {
        "id": "Ne6YgwFBz-ed",
        "colab": {
          "base_uri": "https://localhost:8080/"
        },
        "outputId": "1b08720e-a008-449c-e80f-ac5cfaa51284"
      },
      "execution_count": 5,
      "outputs": [
        {
          "output_type": "execute_result",
          "data": {
            "text/plain": [
              "(tensor([[[1, 2, 3],\n",
              "          [4, 5, 6],\n",
              "          [7, 8, 9]]]),\n",
              " torch.Size([1, 3, 3]))"
            ]
          },
          "metadata": {},
          "execution_count": 5
        }
      ]
    },
    {
      "cell_type": "code",
      "source": [
        "tensor2 = torch.arange(1, 10).reshape(3, 3)\n",
        "tensor2, tensor.shape"
      ],
      "metadata": {
        "colab": {
          "base_uri": "https://localhost:8080/"
        },
        "id": "hNIwcMes41Hq",
        "outputId": "78807e1e-7cb0-428f-9162-fbbddc70bc48"
      },
      "execution_count": 7,
      "outputs": [
        {
          "output_type": "execute_result",
          "data": {
            "text/plain": [
              "(tensor([[1, 2, 3],\n",
              "         [4, 5, 6],\n",
              "         [7, 8, 9]]),\n",
              " torch.Size([1, 3, 3]))"
            ]
          },
          "metadata": {},
          "execution_count": 7
        }
      ]
    },
    {
      "cell_type": "code",
      "source": [
        "tensor[0], tensor2[0]"
      ],
      "metadata": {
        "colab": {
          "base_uri": "https://localhost:8080/"
        },
        "id": "BW_HT8Vy4-j0",
        "outputId": "e15a25f9-bd79-4235-9a33-b8ae99db94f3"
      },
      "execution_count": 8,
      "outputs": [
        {
          "output_type": "execute_result",
          "data": {
            "text/plain": [
              "(tensor([[1, 2, 3],\n",
              "         [4, 5, 6],\n",
              "         [7, 8, 9]]),\n",
              " tensor([1, 2, 3]))"
            ]
          },
          "metadata": {},
          "execution_count": 8
        }
      ]
    },
    {
      "cell_type": "code",
      "source": [
        "tensor[0, 1], tensor2[0, 1]"
      ],
      "metadata": {
        "colab": {
          "base_uri": "https://localhost:8080/"
        },
        "id": "PiKp0QOL5HNb",
        "outputId": "8d5a9556-2274-42c2-f9d7-3244d64c8b84"
      },
      "execution_count": 9,
      "outputs": [
        {
          "output_type": "execute_result",
          "data": {
            "text/plain": [
              "(tensor([4, 5, 6]), tensor(2))"
            ]
          },
          "metadata": {},
          "execution_count": 9
        }
      ]
    },
    {
      "cell_type": "code",
      "source": [
        "tensor[0, 1, :], tensor2[0, :]"
      ],
      "metadata": {
        "colab": {
          "base_uri": "https://localhost:8080/"
        },
        "id": "T_AFF-Af5Kib",
        "outputId": "007e40a0-1ab9-4b29-912a-323ad6ea02aa"
      },
      "execution_count": 10,
      "outputs": [
        {
          "output_type": "execute_result",
          "data": {
            "text/plain": [
              "(tensor([4, 5, 6]), tensor([1, 2, 3]))"
            ]
          },
          "metadata": {},
          "execution_count": 10
        }
      ]
    },
    {
      "cell_type": "code",
      "source": [
        "tensor[0, 0, 1], tensor2[0, 1] #So for the first tensor it's like the first example, if you had examples at the beginning."
      ],
      "metadata": {
        "colab": {
          "base_uri": "https://localhost:8080/"
        },
        "id": "gcq1xqRN5Qsl",
        "outputId": "b2df8fb6-b6e4-48f7-855b-5ea66e691bc7"
      },
      "execution_count": 17,
      "outputs": [
        {
          "output_type": "execute_result",
          "data": {
            "text/plain": [
              "(tensor(2), tensor(2))"
            ]
          },
          "metadata": {},
          "execution_count": 17
        }
      ]
    },
    {
      "cell_type": "code",
      "source": [
        "tensor[:, :, 0]"
      ],
      "metadata": {
        "colab": {
          "base_uri": "https://localhost:8080/"
        },
        "id": "cHf7bsmD5Sxk",
        "outputId": "2e98ebda-d096-40c0-a4a8-a4281e32a377"
      },
      "execution_count": 18,
      "outputs": [
        {
          "output_type": "execute_result",
          "data": {
            "text/plain": [
              "tensor([[1, 4, 7]])"
            ]
          },
          "metadata": {},
          "execution_count": 18
        }
      ]
    },
    {
      "cell_type": "code",
      "source": [
        "# Get all values of dim 0, but only the 1 index value of 1st and 2nd dim\n",
        "display(tensor[0, 1, 1])\n",
        "display(tensor[:, 1, 1])"
      ],
      "metadata": {
        "colab": {
          "base_uri": "https://localhost:8080/",
          "height": 53
        },
        "id": "2l9m1TXW5k3M",
        "outputId": "4d478f74-2227-4539-8e81-a5a174e2d079"
      },
      "execution_count": 20,
      "outputs": [
        {
          "output_type": "display_data",
          "data": {
            "text/plain": [
              "tensor(5)"
            ]
          },
          "metadata": {}
        },
        {
          "output_type": "display_data",
          "data": {
            "text/plain": [
              "tensor([5])"
            ]
          },
          "metadata": {}
        }
      ]
    },
    {
      "cell_type": "code",
      "source": [
        "display(tensor[:][0][1])\n",
        "display(tensor[0,0,1])"
      ],
      "metadata": {
        "colab": {
          "base_uri": "https://localhost:8080/",
          "height": 53
        },
        "id": "VJnsO3QZ51kk",
        "outputId": "beb0a22b-0ae5-4a4e-fae0-e4bc4f45a8e2"
      },
      "execution_count": 24,
      "outputs": [
        {
          "output_type": "display_data",
          "data": {
            "text/plain": [
              "tensor([4, 5, 6])"
            ]
          },
          "metadata": {}
        },
        {
          "output_type": "display_data",
          "data": {
            "text/plain": [
              "tensor(2)"
            ]
          },
          "metadata": {}
        }
      ]
    },
    {
      "cell_type": "code",
      "source": [
        "display(tensor[0][2][2])\n",
        "display(tensor[:, 2, 2])"
      ],
      "metadata": {
        "colab": {
          "base_uri": "https://localhost:8080/"
        },
        "id": "7cFCYH4I6ohF",
        "outputId": "922c46d1-7e04-4aa1-e781-358537293fbb"
      },
      "execution_count": 26,
      "outputs": [
        {
          "output_type": "execute_result",
          "data": {
            "text/plain": [
              "tensor([9])"
            ]
          },
          "metadata": {},
          "execution_count": 26
        }
      ]
    },
    {
      "cell_type": "markdown",
      "source": [
        "## PyTorch tensors and NumPy\n",
        "\n",
        "PyTorch can interact ith NumPy\n",
        "\n",
        "- NumPy to PyTorch: torch.from_numpy(ndarray)\n",
        "- PyTorch Tensor to NumPy: torch.Tensor.numpy()"
      ],
      "metadata": {
        "id": "S2-gRo-07ONh"
      }
    },
    {
      "cell_type": "code",
      "source": [
        "# NumPy array to Tensor\n",
        "import torch\n",
        "import numpy as np\n",
        "\n",
        "array = np.arange(1.0, 8.0)\n",
        "tensor = torch.from_numpy(array) #pytorch reflects numpy's default float64 type unless you specify otherwise.\n",
        "array, tensor"
      ],
      "metadata": {
        "colab": {
          "base_uri": "https://localhost:8080/"
        },
        "id": "RUo9LeX860Ml",
        "outputId": "50d9dfb4-c57c-40be-b497-6443b4edde04"
      },
      "execution_count": 28,
      "outputs": [
        {
          "output_type": "execute_result",
          "data": {
            "text/plain": [
              "(array([1., 2., 3., 4., 5., 6., 7.]),\n",
              " tensor([1., 2., 3., 4., 5., 6., 7.], dtype=torch.float64))"
            ]
          },
          "metadata": {},
          "execution_count": 28
        }
      ]
    },
    {
      "cell_type": "code",
      "source": [
        "array.dtype, tensor.dtype"
      ],
      "metadata": {
        "colab": {
          "base_uri": "https://localhost:8080/"
        },
        "id": "qryFRkxY7M1l",
        "outputId": "ffd64db2-5f32-4830-ae10-c62ca57bddad"
      },
      "execution_count": 29,
      "outputs": [
        {
          "output_type": "execute_result",
          "data": {
            "text/plain": [
              "(dtype('float64'), torch.float64)"
            ]
          },
          "metadata": {},
          "execution_count": 29
        }
      ]
    },
    {
      "cell_type": "code",
      "source": [
        "# Let's see what we can do with types\n",
        "array = np.arange(1.0, 8.0)\n",
        "tensor = torch.from_numpy(array).type(torch.float32)\n",
        "array.dtype, tensor.dtype"
      ],
      "metadata": {
        "colab": {
          "base_uri": "https://localhost:8080/"
        },
        "id": "7R4FbqEA7hit",
        "outputId": "7c08db66-dafc-446f-c8e1-196e1aab4cb4"
      },
      "execution_count": 31,
      "outputs": [
        {
          "output_type": "execute_result",
          "data": {
            "text/plain": [
              "(dtype('float64'), torch.float32)"
            ]
          },
          "metadata": {},
          "execution_count": 31
        }
      ]
    },
    {
      "cell_type": "code",
      "source": [
        "# If we change array, will tensor change?\n",
        "array = array + 1\n",
        "array, tensor"
      ],
      "metadata": {
        "colab": {
          "base_uri": "https://localhost:8080/"
        },
        "id": "m2-MszX97zlt",
        "outputId": "e3c4804a-dbbf-4e78-d641-d3766f82171a"
      },
      "execution_count": 32,
      "outputs": [
        {
          "output_type": "execute_result",
          "data": {
            "text/plain": [
              "(array([2., 3., 4., 5., 6., 7., 8.]), tensor([1., 2., 3., 4., 5., 6., 7.]))"
            ]
          },
          "metadata": {},
          "execution_count": 32
        }
      ]
    },
    {
      "cell_type": "code",
      "source": [
        "# Answer is no."
      ],
      "metadata": {
        "id": "OF-gYAUE8xf9"
      },
      "execution_count": 33,
      "outputs": []
    },
    {
      "cell_type": "code",
      "source": [
        "#Tensor to NumPy array\n",
        "tensor = torch.ones(7)\n",
        "tensor"
      ],
      "metadata": {
        "colab": {
          "base_uri": "https://localhost:8080/"
        },
        "id": "SBYp26F98zSc",
        "outputId": "cb8cc1f8-0a18-4879-9702-4e4530f91e50"
      },
      "execution_count": 35,
      "outputs": [
        {
          "output_type": "execute_result",
          "data": {
            "text/plain": [
              "tensor([1., 1., 1., 1., 1., 1., 1.])"
            ]
          },
          "metadata": {},
          "execution_count": 35
        }
      ]
    },
    {
      "cell_type": "code",
      "source": [
        "numpy_tensor = tensor.numpy()\n",
        "display(tensor)\n",
        "display(numpy_tensor)\n",
        "tensor.dtype, numpy_tensor.dtype"
      ],
      "metadata": {
        "colab": {
          "base_uri": "https://localhost:8080/",
          "height": 71
        },
        "id": "5cEy8X0J85JF",
        "outputId": "27cff7d7-9e22-4007-fe16-76d3e4f2c20f"
      },
      "execution_count": 36,
      "outputs": [
        {
          "output_type": "display_data",
          "data": {
            "text/plain": [
              "tensor([1., 1., 1., 1., 1., 1., 1.])"
            ]
          },
          "metadata": {}
        },
        {
          "output_type": "display_data",
          "data": {
            "text/plain": [
              "array([1., 1., 1., 1., 1., 1., 1.], dtype=float32)"
            ]
          },
          "metadata": {}
        },
        {
          "output_type": "execute_result",
          "data": {
            "text/plain": [
              "(torch.float32, dtype('float32'))"
            ]
          },
          "metadata": {},
          "execution_count": 36
        }
      ]
    },
    {
      "cell_type": "code",
      "source": [
        "# Change the tensor, what happens to NumPy Tensor?\n",
        "tensor = tensor + 1\n",
        "tensor, numpy_tensor"
      ],
      "metadata": {
        "colab": {
          "base_uri": "https://localhost:8080/"
        },
        "id": "VbA12oXP8_3k",
        "outputId": "e74ec6e4-d1ea-424a-c3c2-2bfb03a88e17"
      },
      "execution_count": 37,
      "outputs": [
        {
          "output_type": "execute_result",
          "data": {
            "text/plain": [
              "(tensor([2., 2., 2., 2., 2., 2., 2.]),\n",
              " array([1., 1., 1., 1., 1., 1., 1.], dtype=float32))"
            ]
          },
          "metadata": {},
          "execution_count": 37
        }
      ]
    },
    {
      "cell_type": "code",
      "source": [
        "# Answer is, again, nothing happens. They're not a \"view\" of each other."
      ],
      "metadata": {
        "id": "MraYGgQp9I6E"
      },
      "execution_count": 38,
      "outputs": []
    },
    {
      "cell_type": "markdown",
      "source": [
        "### REPRODUCIBILITY\n",
        "Let's take randomness out of it. It does warn you it might be a bit slower\n",
        "\n",
        "\"Deterministic operations are often slower than nondeterministic operations, so single-run performance may decrease for your model. However, determinism may save time in development by facilitating experimentation, debugging, and regression testing.\"\n",
        "[Randomness](https://pytorch.org/docs/stable/notes/randomness.html)\n",
        "\n",
        "Reduce randomness through a choice of Random Seed."
      ],
      "metadata": {
        "id": "7O9oJwfYDdGf"
      }
    },
    {
      "cell_type": "code",
      "source": [
        "torch.rand(3,3)"
      ],
      "metadata": {
        "colab": {
          "base_uri": "https://localhost:8080/"
        },
        "id": "CoRXG32D9MPs",
        "outputId": "d56ccd6e-0dd8-48fe-c416-14d4e8881d6e"
      },
      "execution_count": 44,
      "outputs": [
        {
          "output_type": "execute_result",
          "data": {
            "text/plain": [
              "tensor([[0.0666, 0.4437, 0.3970],\n",
              "        [0.3873, 0.8852, 0.3361],\n",
              "        [0.9485, 0.6775, 0.5284]])"
            ]
          },
          "metadata": {},
          "execution_count": 44
        }
      ]
    },
    {
      "cell_type": "code",
      "source": [
        "import torch\n",
        "\n",
        "# Create 2 random tensors\n",
        "random_tensor_a = torch.rand(3, 4)\n",
        "random_tensor_b = torch.rand(3, 4)\n",
        "random_tensor_a, random_tensor_b"
      ],
      "metadata": {
        "colab": {
          "base_uri": "https://localhost:8080/"
        },
        "id": "33nmSZtIDvyt",
        "outputId": "8bb92e14-2054-4c83-93fe-2dcac726850c"
      },
      "execution_count": 46,
      "outputs": [
        {
          "output_type": "execute_result",
          "data": {
            "text/plain": [
              "(tensor([[2.7432e-01, 5.0127e-01, 3.7443e-01, 7.5925e-01],\n",
              "         [7.4464e-01, 9.3932e-02, 8.3673e-01, 6.6380e-01],\n",
              "         [8.8637e-01, 4.8061e-01, 5.1773e-04, 5.9743e-01]]),\n",
              " tensor([[0.3761, 0.8186, 0.5187, 0.2612],\n",
              "         [0.7272, 0.7018, 0.3157, 0.6203],\n",
              "         [0.8976, 0.0164, 0.6051, 0.4654]]))"
            ]
          },
          "metadata": {},
          "execution_count": 46
        }
      ]
    },
    {
      "cell_type": "code",
      "source": [
        "random_tensor_a == random_tensor_b"
      ],
      "metadata": {
        "colab": {
          "base_uri": "https://localhost:8080/"
        },
        "id": "XTULXkUPEHiG",
        "outputId": "5597602a-3a2e-43f3-cc10-8463790ed279"
      },
      "execution_count": 47,
      "outputs": [
        {
          "output_type": "execute_result",
          "data": {
            "text/plain": [
              "tensor([[False, False, False, False],\n",
              "        [False, False, False, False],\n",
              "        [False, False, False, False]])"
            ]
          },
          "metadata": {},
          "execution_count": 47
        }
      ]
    },
    {
      "cell_type": "code",
      "source": [
        "# Set a random seed\n",
        "RANDOM_SEED = 2\n",
        "torch.manual_seed(RANDOM_SEED)"
      ],
      "metadata": {
        "colab": {
          "base_uri": "https://localhost:8080/"
        },
        "id": "PbWVTNuSELmP",
        "outputId": "a9d0ea9c-1b3e-41bd-8c44-224a924a5f12"
      },
      "execution_count": 48,
      "outputs": [
        {
          "output_type": "execute_result",
          "data": {
            "text/plain": [
              "<torch._C.Generator at 0x7d137af84c30>"
            ]
          },
          "metadata": {},
          "execution_count": 48
        }
      ]
    },
    {
      "cell_type": "code",
      "source": [
        "random_tensor_c = torch.rand(3, 4)\n",
        "random_tensor_d = torch.rand(3, 4)\n",
        "random_tensor_c, random_tensor_d"
      ],
      "metadata": {
        "colab": {
          "base_uri": "https://localhost:8080/"
        },
        "id": "dmSjc0kCEbl1",
        "outputId": "d9d597c5-62eb-453c-8b42-2b1d61d9177c"
      },
      "execution_count": 50,
      "outputs": [
        {
          "output_type": "execute_result",
          "data": {
            "text/plain": [
              "(tensor([[0.4525, 0.6317, 0.4760, 0.2200],\n",
              "         [0.2166, 0.2571, 0.0458, 0.1755],\n",
              "         [0.6177, 0.8291, 0.5246, 0.2708]]),\n",
              " tensor([[0.7197, 0.3081, 0.3892, 0.2259],\n",
              "         [0.3430, 0.0367, 0.7133, 0.6944],\n",
              "         [0.5993, 0.7455, 0.7119, 0.5221]]))"
            ]
          },
          "metadata": {},
          "execution_count": 50
        }
      ]
    },
    {
      "cell_type": "code",
      "source": [
        "# Try running the above cells again, and you'll see you get the same results again\n",
        "torch.manual_seed(RANDOM_SEED)\n",
        "random_tensor_e = torch.rand(3, 4)\n",
        "torch.manual_seed(RANDOM_SEED)\n",
        "random_tensor_f = torch.rand(3, 4)\n",
        "display(random_tensor_e)\n",
        "display(random_tensor_f)\n",
        "random_tensor_e == random_tensor_f"
      ],
      "metadata": {
        "colab": {
          "base_uri": "https://localhost:8080/",
          "height": 178
        },
        "id": "Q7zmxp8ZEi5O",
        "outputId": "f7b8eba9-bc6c-4505-a974-8f882e79389c"
      },
      "execution_count": 51,
      "outputs": [
        {
          "output_type": "display_data",
          "data": {
            "text/plain": [
              "tensor([[0.6147, 0.3810, 0.6371, 0.4745],\n",
              "        [0.7136, 0.6190, 0.4425, 0.0958],\n",
              "        [0.6142, 0.0573, 0.5657, 0.5332]])"
            ]
          },
          "metadata": {}
        },
        {
          "output_type": "display_data",
          "data": {
            "text/plain": [
              "tensor([[0.6147, 0.3810, 0.6371, 0.4745],\n",
              "        [0.7136, 0.6190, 0.4425, 0.0958],\n",
              "        [0.6142, 0.0573, 0.5657, 0.5332]])"
            ]
          },
          "metadata": {}
        },
        {
          "output_type": "execute_result",
          "data": {
            "text/plain": [
              "tensor([[True, True, True, True],\n",
              "        [True, True, True, True],\n",
              "        [True, True, True, True]])"
            ]
          },
          "metadata": {},
          "execution_count": 51
        }
      ]
    },
    {
      "cell_type": "markdown",
      "source": [
        "### GPU ACCESS\n",
        "CUDA + NVIDIA Hardware + PyTorch together working behind the scenes!\n",
        "\n",
        "1. Use Google Colab free or pro versions\n",
        "2. Use your own GPU\n",
        "3. Rent a Cloud GPU on Google Cloud Platform, AWS, Azure, etc etc.\n",
        "\n",
        "Pytorch + GPU Drivers (CUDA) takes a bit to set up. Refer to the PyTorch website for further instruction."
      ],
      "metadata": {
        "id": "1rQhRkGoLrAr"
      }
    },
    {
      "cell_type": "code",
      "source": [
        "## Check for GPU Access\n",
        "!nvidia-smi"
      ],
      "metadata": {
        "colab": {
          "base_uri": "https://localhost:8080/"
        },
        "id": "M9L7s6B_E3LX",
        "outputId": "d4e531db-d994-448e-be87-2f880f0ff84e"
      },
      "execution_count": 1,
      "outputs": [
        {
          "output_type": "stream",
          "name": "stdout",
          "text": [
            "Tue Sep  3 04:47:51 2024       \n",
            "+---------------------------------------------------------------------------------------+\n",
            "| NVIDIA-SMI 535.104.05             Driver Version: 535.104.05   CUDA Version: 12.2     |\n",
            "|-----------------------------------------+----------------------+----------------------+\n",
            "| GPU  Name                 Persistence-M | Bus-Id        Disp.A | Volatile Uncorr. ECC |\n",
            "| Fan  Temp   Perf          Pwr:Usage/Cap |         Memory-Usage | GPU-Util  Compute M. |\n",
            "|                                         |                      |               MIG M. |\n",
            "|=========================================+======================+======================|\n",
            "|   0  Tesla T4                       Off | 00000000:00:04.0 Off |                    0 |\n",
            "| N/A   63C    P8              12W /  70W |      0MiB / 15360MiB |      0%      Default |\n",
            "|                                         |                      |                  N/A |\n",
            "+-----------------------------------------+----------------------+----------------------+\n",
            "                                                                                         \n",
            "+---------------------------------------------------------------------------------------+\n",
            "| Processes:                                                                            |\n",
            "|  GPU   GI   CI        PID   Type   Process name                            GPU Memory |\n",
            "|        ID   ID                                                             Usage      |\n",
            "|=======================================================================================|\n",
            "|  No running processes found                                                           |\n",
            "+---------------------------------------------------------------------------------------+\n"
          ]
        }
      ]
    },
    {
      "cell_type": "code",
      "source": [
        "import torch\n",
        "torch.cuda.is_available()"
      ],
      "metadata": {
        "colab": {
          "base_uri": "https://localhost:8080/"
        },
        "id": "bO25fGweNWtY",
        "outputId": "ba5eac81-7c7e-4af9-bacb-61970f848a5b"
      },
      "execution_count": 2,
      "outputs": [
        {
          "output_type": "execute_result",
          "data": {
            "text/plain": [
              "True"
            ]
          },
          "metadata": {},
          "execution_count": 2
        }
      ]
    },
    {
      "cell_type": "code",
      "source": [
        "device = \"cuda\" if torch.cuda.is_available() else \"cpu\"\n",
        "device"
      ],
      "metadata": {
        "colab": {
          "base_uri": "https://localhost:8080/",
          "height": 35
        },
        "id": "E10VzXyFNiQH",
        "outputId": "1eb31f3a-ba2f-4c5e-b7ec-204b43fc4669"
      },
      "execution_count": 4,
      "outputs": [
        {
          "output_type": "execute_result",
          "data": {
            "text/plain": [
              "'cuda'"
            ],
            "application/vnd.google.colaboratory.intrinsic+json": {
              "type": "string"
            }
          },
          "metadata": {},
          "execution_count": 4
        }
      ]
    },
    {
      "cell_type": "markdown",
      "source": [
        "on PyTorch \"Device-agnostic code\" has some stuff about setting torch.device(\"cuda\") or torch.device(\"cpu\")\n",
        "\n",
        "PyTorch could run computations on either, so it's best practice to setup device-agnostic code.\n",
        "\n",
        "So let's see some device-agnostic code now..."
      ],
      "metadata": {
        "id": "IIBLUNY5N9Fx"
      }
    },
    {
      "cell_type": "code",
      "source": [
        "tensor = torch.tensor([1, 2, 3])\n",
        "print(tensor, tensor.device)"
      ],
      "metadata": {
        "colab": {
          "base_uri": "https://localhost:8080/"
        },
        "id": "o4R_UvlsN7nP",
        "outputId": "e60c7584-608f-4810-bbdf-69be49c7516c"
      },
      "execution_count": 5,
      "outputs": [
        {
          "output_type": "stream",
          "name": "stdout",
          "text": [
            "tensor([1, 2, 3]) cpu\n"
          ]
        }
      ]
    },
    {
      "cell_type": "code",
      "source": [
        "tensor_on_gpu = tensor.to(device)\n",
        "tensor_on_gpu"
      ],
      "metadata": {
        "colab": {
          "base_uri": "https://localhost:8080/"
        },
        "id": "3pKoXWPSOyfI",
        "outputId": "80727cac-c034-4819-9ba6-5d1ff7d22762"
      },
      "execution_count": 6,
      "outputs": [
        {
          "output_type": "execute_result",
          "data": {
            "text/plain": [
              "tensor([1, 2, 3], device='cuda:0')"
            ]
          },
          "metadata": {},
          "execution_count": 6
        }
      ]
    },
    {
      "cell_type": "markdown",
      "source": [
        "Thus, now you see the reason for \"device-agnostic code\" having a section on explaining that. It's essentially just like \"debug\" and \"release\" directives which just help us move from one environment to another easily."
      ],
      "metadata": {
        "id": "yIjIlJBZO45W"
      }
    },
    {
      "cell_type": "code",
      "source": [
        "tensor_on_cpu = tensor_on_gpu.to(\"cpu\")\n",
        "tensor_on_cpu, tensor_on_cpu.device"
      ],
      "metadata": {
        "colab": {
          "base_uri": "https://localhost:8080/"
        },
        "id": "QP4Zs9YeO1W4",
        "outputId": "227678d7-b985-48e5-b655-ea98c4a7f0bb"
      },
      "execution_count": 8,
      "outputs": [
        {
          "output_type": "execute_result",
          "data": {
            "text/plain": [
              "(tensor([1, 2, 3]), device(type='cpu'))"
            ]
          },
          "metadata": {},
          "execution_count": 8
        }
      ]
    },
    {
      "cell_type": "code",
      "source": [
        "tensor_on_gpu.numpy()"
      ],
      "metadata": {
        "colab": {
          "base_uri": "https://localhost:8080/",
          "height": 144
        },
        "id": "TyNsescEPG9J",
        "outputId": "b654dbc2-299e-4659-99c3-f6230a126d28"
      },
      "execution_count": 9,
      "outputs": [
        {
          "output_type": "error",
          "ename": "TypeError",
          "evalue": "can't convert cuda:0 device type tensor to numpy. Use Tensor.cpu() to copy the tensor to host memory first.",
          "traceback": [
            "\u001b[0;31m---------------------------------------------------------------------------\u001b[0m",
            "\u001b[0;31mTypeError\u001b[0m                                 Traceback (most recent call last)",
            "\u001b[0;32m<ipython-input-9-e0c96c7436fd>\u001b[0m in \u001b[0;36m<cell line: 1>\u001b[0;34m()\u001b[0m\n\u001b[0;32m----> 1\u001b[0;31m \u001b[0mtensor_on_gpu\u001b[0m\u001b[0;34m.\u001b[0m\u001b[0mnumpy\u001b[0m\u001b[0;34m(\u001b[0m\u001b[0;34m)\u001b[0m\u001b[0;34m\u001b[0m\u001b[0;34m\u001b[0m\u001b[0m\n\u001b[0m",
            "\u001b[0;31mTypeError\u001b[0m: can't convert cuda:0 device type tensor to numpy. Use Tensor.cpu() to copy the tensor to host memory first."
          ]
        }
      ]
    },
    {
      "cell_type": "code",
      "source": [
        "# Now look at that, we can't quite just work with the tensor on GPU without being careful.\n",
        "numpy_array_back = tensor_on_gpu.cpu().numpy()\n",
        "numpy_array_back #You can't print tensor_back.device bc this is an ndarray"
      ],
      "metadata": {
        "colab": {
          "base_uri": "https://localhost:8080/"
        },
        "id": "szQ9fyT1PK3B",
        "outputId": "6bb4e006-fd29-40fb-a2cc-e5957164cd46"
      },
      "execution_count": 13,
      "outputs": [
        {
          "output_type": "execute_result",
          "data": {
            "text/plain": [
              "array([1, 2, 3])"
            ]
          },
          "metadata": {},
          "execution_count": 13
        }
      ]
    },
    {
      "cell_type": "code",
      "source": [],
      "metadata": {
        "id": "dftvOKZbPVjw"
      },
      "execution_count": null,
      "outputs": []
    }
  ]
}